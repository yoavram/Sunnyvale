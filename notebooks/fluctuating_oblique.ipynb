{
 "cells": [
  {
   "cell_type": "code",
   "execution_count": 5,
   "metadata": {},
   "outputs": [],
   "source": [
    "from sympy import *\n",
    "init_printing()\n",
    "%matplotlib inline\n",
    "import matplotlib.pyplot as plt\n",
    "import numpy as np"
   ]
  },
  {
   "cell_type": "markdown",
   "metadata": {},
   "source": [
    "# Fluctuating transmission, constant selection"
   ]
  },
  {
   "cell_type": "code",
   "execution_count": 13,
   "metadata": {},
   "outputs": [],
   "source": [
    "x, w, ρ, r, s = symbols('x w ρ r s')"
   ]
  },
  {
   "cell_type": "code",
   "execution_count": 17,
   "metadata": {},
   "outputs": [
    {
     "data": {
      "image/png": "[encoded data removed]",
      "text/latex": [
       "$$\\frac{x}{s x + 1} \\left(s x \\left(- ρ + 1\\right) + s ρ + 1\\right)$$"
      ],
      "text/plain": [
       "x⋅(s⋅x⋅(-ρ + 1) + s⋅ρ + 1)\n",
       "──────────────────────────\n",
       "         s⋅x + 1          "
      ]
     },
     "execution_count": 17,
     "metadata": {},
     "output_type": "execute_result"
    }
   ],
   "source": [
    "y = x * (x * s * (1 - ρ) + 1 + ρ * s) / (1 + x * s)\n",
    "y"
   ]
  },
  {
   "cell_type": "code",
   "execution_count": 18,
   "metadata": {},
   "outputs": [
    {
     "data": {
      "image/png": "[encoded data removed]",
      "text/latex": [
       "$$\\frac{x \\left(r s + \\frac{s x}{s x + 1} \\left(- r + 1\\right) \\left(s x \\left(- ρ + 1\\right) + s ρ + 1\\right) + 1\\right) \\left(s x \\left(- ρ + 1\\right) + s ρ + 1\\right)}{\\left(s x + 1\\right) \\left(\\frac{s x}{s x + 1} \\left(s x \\left(- ρ + 1\\right) + s ρ + 1\\right) + 1\\right)}$$"
      ],
      "text/plain": [
       "  ⎛      s⋅x⋅(-r + 1)⋅(s⋅x⋅(-ρ + 1) + s⋅ρ + 1)    ⎞                         \n",
       "x⋅⎜r⋅s + ───────────────────────────────────── + 1⎟⋅(s⋅x⋅(-ρ + 1) + s⋅ρ + 1)\n",
       "  ⎝                     s⋅x + 1                   ⎠                         \n",
       "────────────────────────────────────────────────────────────────────────────\n",
       "                          ⎛s⋅x⋅(s⋅x⋅(-ρ + 1) + s⋅ρ + 1)    ⎞                \n",
       "                (s⋅x + 1)⋅⎜──────────────────────────── + 1⎟                \n",
       "                          ⎝          s⋅x + 1               ⎠                "
      ]
     },
     "execution_count": 18,
     "metadata": {},
     "output_type": "execute_result"
    }
   ],
   "source": [
    "z = y * (y * s * (1 - r) + 1 + r * s) / (1 + y * s)\n",
    "z"
   ]
  },
  {
   "cell_type": "markdown",
   "metadata": {},
   "source": [
    "## Solve x''=x"
   ]
  },
  {
   "cell_type": "code",
   "execution_count": 19,
   "metadata": {},
   "outputs": [
    {
     "data": {
      "image/png": "[encoded data removed]",
      "text/latex": [
       "$$\\left ( 0, \\quad 0\\right )$$"
      ],
      "text/plain": [
       "(0, 0)"
      ]
     },
     "execution_count": 19,
     "metadata": {},
     "output_type": "execute_result"
    }
   ],
   "source": [
    "simplify((z-x).subs(x, 0)), simplify((z-x).subs(x, 1))"
   ]
  },
  {
   "cell_type": "code",
   "execution_count": 47,
   "metadata": {},
   "outputs": [
    {
     "data": {
      "image/png": "[encoded data removed]",
      "text/latex": [
       "$$\\frac{1}{\\left(x - 1\\right) \\left(s x + 1\\right) \\left(s x \\left(- s x \\left(ρ - 1\\right) + s ρ + 1\\right) + s x + 1\\right)} \\left(\\left(s x + 1\\right) \\left(s x \\left(- s x \\left(ρ - 1\\right) + s ρ + 1\\right) + s x + 1\\right) - \\left(- s x \\left(r - 1\\right) \\left(- s x \\left(ρ - 1\\right) + s ρ + 1\\right) + \\left(r s + 1\\right) \\left(s x + 1\\right)\\right) \\left(- s x \\left(ρ - 1\\right) + s ρ + 1\\right)\\right)$$"
      ],
      "text/plain": [
       "(s⋅x + 1)⋅(s⋅x⋅(-s⋅x⋅(ρ - 1) + s⋅ρ + 1) + s⋅x + 1) - (-s⋅x⋅(r - 1)⋅(-s⋅x⋅(ρ - \n",
       "──────────────────────────────────────────────────────────────────────────────\n",
       "                                         (x - 1)⋅(s⋅x + 1)⋅(s⋅x⋅(-s⋅x⋅(ρ - 1) \n",
       "\n",
       "1) + s⋅ρ + 1) + (r⋅s + 1)⋅(s⋅x + 1))⋅(-s⋅x⋅(ρ - 1) + s⋅ρ + 1)\n",
       "─────────────────────────────────────────────────────────────\n",
       "+ s⋅ρ + 1) + s⋅x + 1)                                        "
      ]
     },
     "execution_count": 47,
     "metadata": {},
     "output_type": "execute_result"
    }
   ],
   "source": [
    "G = (z - x) / (x * (1 - x))\n",
    "simplify(G)"
   ]
  },
  {
   "cell_type": "code",
   "execution_count": 48,
   "metadata": {},
   "outputs": [
    {
     "data": {
      "image/png": "[encoded data removed]",
      "text/latex": [
       "$$- \\frac{s}{\\left(s x + 1\\right) \\left(s^{2} x^{2} ρ - s^{2} x^{2} - s^{2} x ρ - 2 s x - 1\\right)} \\left(r s^{2} x^{2} ρ^{2} - 2 r s^{2} x^{2} ρ + r s^{2} x^{2} - r s^{2} x ρ^{2} + r s^{2} x ρ - 2 r s x ρ + 2 r s x + r s ρ + r - s^{2} x^{2} ρ^{2} + s^{2} x^{2} ρ + s^{2} x ρ^{2} + 2 s x ρ + ρ\\right)$$"
      ],
      "text/plain": [
       "   ⎛   2  2  2        2  2        2  2      2    2      2                     \n",
       "-s⋅⎝r⋅s ⋅x ⋅ρ  - 2⋅r⋅s ⋅x ⋅ρ + r⋅s ⋅x  - r⋅s ⋅x⋅ρ  + r⋅s ⋅x⋅ρ - 2⋅r⋅s⋅x⋅ρ + 2⋅\n",
       "──────────────────────────────────────────────────────────────────────────────\n",
       "                                                         ⎛ 2  2      2  2    2\n",
       "                                               (s⋅x + 1)⋅⎝s ⋅x ⋅ρ - s ⋅x  - s \n",
       "\n",
       "                     2  2  2    2  2      2    2              ⎞ \n",
       "r⋅s⋅x + r⋅s⋅ρ + r - s ⋅x ⋅ρ  + s ⋅x ⋅ρ + s ⋅x⋅ρ  + 2⋅s⋅x⋅ρ + ρ⎠ \n",
       "────────────────────────────────────────────────────────────────\n",
       "                ⎞                                               \n",
       "⋅x⋅ρ - 2⋅s⋅x - 1⎠                                               "
      ]
     },
     "execution_count": 48,
     "metadata": {},
     "output_type": "execute_result"
    }
   ],
   "source": [
    "factor(G)"
   ]
  },
  {
   "cell_type": "code",
   "execution_count": 49,
   "metadata": {},
   "outputs": [
    {
     "data": {
      "image/png": "[encoded data removed]",
      "text/latex": [
       "$$r s^{2} x^{2} ρ^{2} - 2 r s^{2} x^{2} ρ + r s^{2} x^{2} - r s^{2} x ρ^{2} + r s^{2} x ρ - 2 r s x ρ + 2 r s x + r s ρ + r - s^{2} x^{2} ρ^{2} + s^{2} x^{2} ρ + s^{2} x ρ^{2} + 2 s x ρ + ρ$$"
      ],
      "text/plain": [
       "   2  2  2        2  2        2  2      2    2      2                         \n",
       "r⋅s ⋅x ⋅ρ  - 2⋅r⋅s ⋅x ⋅ρ + r⋅s ⋅x  - r⋅s ⋅x⋅ρ  + r⋅s ⋅x⋅ρ - 2⋅r⋅s⋅x⋅ρ + 2⋅r⋅s⋅\n",
       "\n",
       "                 2  2  2    2  2      2    2              \n",
       "x + r⋅s⋅ρ + r - s ⋅x ⋅ρ  + s ⋅x ⋅ρ + s ⋅x⋅ρ  + 2⋅s⋅x⋅ρ + ρ"
      ]
     },
     "execution_count": 49,
     "metadata": {},
     "output_type": "execute_result"
    }
   ],
   "source": [
    "G = simplify(G * (1 + x * s) * (1 + x * s * (2 + s * ρ) + x**2 * s **2 * (1 - ρ)) / s)\n",
    "G"
   ]
  },
  {
   "cell_type": "code",
   "execution_count": 15,
   "metadata": {},
   "outputs": [],
   "source": [
    "a, b, c = Poly(G, x).all_coeffs()"
   ]
  },
  {
   "cell_type": "code",
   "execution_count": 16,
   "metadata": {},
   "outputs": [
    {
     "data": {
      "image/png": "[encoded data removed]",
      "text/latex": [
       "$$s^{2} \\left(r ρ^{2} - 2 r ρ + r - ρ^{2} + ρ\\right)$$"
      ],
      "text/plain": [
       " 2 ⎛   2                2    ⎞\n",
       "s ⋅⎝r⋅ρ  - 2⋅r⋅ρ + r - ρ  + ρ⎠"
      ]
     },
     "execution_count": 16,
     "metadata": {},
     "output_type": "execute_result"
    }
   ],
   "source": [
    "simplify(a)"
   ]
  },
  {
   "cell_type": "code",
   "execution_count": 17,
   "metadata": {},
   "outputs": [
    {
     "data": {
      "image/png": "[encoded data removed]",
      "text/latex": [
       "$$s \\left(- r s ρ^{2} + r s ρ - 2 r ρ + 2 r + s ρ^{2} + 2 ρ\\right)$$"
      ],
      "text/plain": [
       "  ⎛       2                            2      ⎞\n",
       "s⋅⎝- r⋅s⋅ρ  + r⋅s⋅ρ - 2⋅r⋅ρ + 2⋅r + s⋅ρ  + 2⋅ρ⎠"
      ]
     },
     "execution_count": 17,
     "metadata": {},
     "output_type": "execute_result"
    }
   ],
   "source": [
    "simplify(b)"
   ]
  },
  {
   "cell_type": "code",
   "execution_count": 18,
   "metadata": {},
   "outputs": [
    {
     "data": {
      "image/png": "[encoded data removed]",
      "text/latex": [
       "$$r s ρ + r + ρ$$"
      ],
      "text/plain": [
       "r⋅s⋅ρ + r + ρ"
      ]
     },
     "execution_count": 18,
     "metadata": {},
     "output_type": "execute_result"
    }
   ],
   "source": [
    "simplify(c)"
   ]
  },
  {
   "cell_type": "code",
   "execution_count": 51,
   "metadata": {},
   "outputs": [
    {
     "data": {
      "image/png": "[encoded data removed]",
      "text/latex": [
       "$$\\left ( 0, \\quad 0\\right )$$"
      ],
      "text/plain": [
       "(0, 0)"
      ]
     },
     "execution_count": 51,
     "metadata": {},
     "output_type": "execute_result"
    }
   ],
   "source": [
    "x1, x2 = simplify(solve(G, x))\n",
    "simplify(G.subs({x:x1})), simplify(G.subs({x:x2}))"
   ]
  },
  {
   "cell_type": "code",
   "execution_count": 74,
   "metadata": {},
   "outputs": [
    {
     "data": {
      "text/plain": [
       "Text(0,0.5,'fixed point')"
      ]
     },
     "execution_count": 74,
     "metadata": {},
     "output_type": "execute_result"
    },
    {
     "data": {
      "image/png": "[encoded data removed]",
      "text/plain": [
       "<matplotlib.figure.Figure at 0x11b6e5710>"
      ]
     },
     "metadata": {},
     "output_type": "display_data"
    }
   ],
   "source": [
    "ρ_ = 0.01\n",
    "s_ = 0.1\n",
    "r_ = np.linspace(0, 1)\n",
    "plt.plot(\n",
    "    r_,\n",
    "    [x1.subs({s:s_, r:r__, ρ:ρ_}) for r__ in r_],\n",
    "    label=r'$x_1$'\n",
    ")\n",
    "plt.plot(\n",
    "    r_,\n",
    "    [x2.subs({s:s_, r:r__, ρ:ρ_}) for r__ in r_],\n",
    "    label=r'$x_2$'\n",
    ")\n",
    "plt.axhline(0, color='k')\n",
    "plt.axhline(1, color='k')\n",
    "plt.legend()\n",
    "plt.xlabel('$r$')\n",
    "plt.ylabel('fixed point')"
   ]
  },
  {
   "cell_type": "code",
   "execution_count": 77,
   "metadata": {},
   "outputs": [],
   "source": [
    "def recursion(x, s, ρ, r):\n",
    "    wbar = 1 + s * x\n",
    "    x = ρ * (1 + s) * x / wbar + (1-ρ) * x\n",
    "    wbar = 1 + s * x\n",
    "    x = r * (1 + s) * x / wbar + (1 - r) * x\n",
    "    return x"
   ]
  },
  {
   "cell_type": "code",
   "execution_count": 86,
   "metadata": {},
   "outputs": [
    {
     "data": {
      "image/png": "[encoded data removed]",
      "text/plain": [
       "<matplotlib.figure.Figure at 0x11c836668>"
      ]
     },
     "metadata": {},
     "output_type": "display_data"
    }
   ],
   "source": [
    "ρ = 0.1\n",
    "r = 0.2\n",
    "s = 0.5\n",
    "\n",
    "x0 = 0.5\n",
    "n = 1000\n",
    "\n",
    "x = np.empty(n)\n",
    "x[0] = x0\n",
    "\n",
    "for t in range(1, n):\n",
    "    x[t] = recursion(x[t-1], s, ρ, r)\n",
    "    \n",
    "plt.plot(x);"
   ]
  },
  {
   "cell_type": "markdown",
   "metadata": {},
   "source": [
    "## Diff x''"
   ]
  },
  {
   "cell_type": "code",
   "execution_count": 11,
   "metadata": {},
   "outputs": [
    {
     "data": {
      "image/png": "[encoded data removed]",
      "text/latex": [
       "$$\\left(r s + 1\\right) \\left(s ρ + 1\\right)$$"
      ],
      "text/plain": [
       "(r⋅s + 1)⋅(s⋅ρ + 1)"
      ]
     },
     "execution_count": 11,
     "metadata": {},
     "output_type": "execute_result"
    }
   ],
   "source": [
    "simplify(diff(z, x).subs({x: 0}))"
   ]
  },
  {
   "cell_type": "code",
   "execution_count": 16,
   "metadata": {},
   "outputs": [
    {
     "data": {
      "image/png": "[encoded data removed]",
      "text/latex": [
       "$$\\frac{1}{s^{2} + 2 s + 1} \\left(r s^{2} x ρ - r s^{2} x - r s^{2} ρ + r s^{2} - r s x + r s - s^{2} x ρ + s^{2} x + s^{2} ρ - s x ρ + 2 s x + s ρ + x\\right)$$"
      ],
      "text/plain": [
       "   2          2        2        2                  2        2      2          \n",
       "r⋅s ⋅x⋅ρ - r⋅s ⋅x - r⋅s ⋅ρ + r⋅s  - r⋅s⋅x + r⋅s - s ⋅x⋅ρ + s ⋅x + s ⋅ρ - s⋅x⋅ρ\n",
       "──────────────────────────────────────────────────────────────────────────────\n",
       "                                           2                                  \n",
       "                                          s  + 2⋅s + 1                        \n",
       "\n",
       "                  \n",
       " + 2⋅s⋅x + s⋅ρ + x\n",
       "──────────────────\n",
       "                  \n",
       "                  "
      ]
     },
     "execution_count": 16,
     "metadata": {},
     "output_type": "execute_result"
    }
   ],
   "source": [
    "simplify(diff(z, x).subs({x: 1})*(x-1) + 1, 100)"
   ]
  },
  {
   "cell_type": "markdown",
   "metadata": {},
   "source": [
    "# Fluctuating transmission and selection"
   ]
  },
  {
   "cell_type": "code",
   "execution_count": 66,
   "metadata": {},
   "outputs": [
    {
     "data": {
      "image/png": "[encoded data removed]",
      "text/latex": [
       "$$\\frac{x ρ \\left(s + 1\\right)}{s x + 1} + x \\left(- ρ + 1\\right)$$"
      ],
      "text/plain": [
       "x⋅ρ⋅(s + 1)             \n",
       "─────────── + x⋅(-ρ + 1)\n",
       "  s⋅x + 1               "
      ]
     },
     "execution_count": 66,
     "metadata": {},
     "output_type": "execute_result"
    }
   ],
   "source": [
    "y = ρ * (1+s)/(1+s*x) * x + (1-ρ)*x\n",
    "y"
   ]
  },
  {
   "cell_type": "code",
   "execution_count": 67,
   "metadata": {},
   "outputs": [
    {
     "data": {
      "image/png": "[encoded data removed]",
      "text/latex": [
       "$$\\frac{r \\left(\\frac{x ρ \\left(s + 1\\right)}{s x + 1} + x \\left(- ρ + 1\\right)\\right)}{- s \\left(\\frac{x ρ \\left(s + 1\\right)}{s x + 1} + x \\left(- ρ + 1\\right)\\right) + s + 1} + \\left(- r + 1\\right) \\left(\\frac{x ρ \\left(s + 1\\right)}{s x + 1} + x \\left(- ρ + 1\\right)\\right)$$"
      ],
      "text/plain": [
       "       ⎛x⋅ρ⋅(s + 1)             ⎞                                           \n",
       "     r⋅⎜─────────── + x⋅(-ρ + 1)⎟                                           \n",
       "       ⎝  s⋅x + 1               ⎠                 ⎛x⋅ρ⋅(s + 1)             ⎞\n",
       "────────────────────────────────────── + (-r + 1)⋅⎜─────────── + x⋅(-ρ + 1)⎟\n",
       "    ⎛x⋅ρ⋅(s + 1)             ⎞                    ⎝  s⋅x + 1               ⎠\n",
       "- s⋅⎜─────────── + x⋅(-ρ + 1)⎟ + s + 1                                      \n",
       "    ⎝  s⋅x + 1               ⎠                                              "
      ]
     },
     "execution_count": 67,
     "metadata": {},
     "output_type": "execute_result"
    }
   ],
   "source": [
    "z = r * 1/(1+s-s*y) * y + (1-r)*y\n",
    "z"
   ]
  },
  {
   "cell_type": "markdown",
   "metadata": {},
   "source": [
    "## Solve x''=x"
   ]
  },
  {
   "cell_type": "code",
   "execution_count": 68,
   "metadata": {},
   "outputs": [
    {
     "data": {
      "image/png": "[encoded data removed]",
      "text/latex": [
       "$$\\left ( 0, \\quad 0\\right )$$"
      ],
      "text/plain": [
       "(0, 0)"
      ]
     },
     "execution_count": 68,
     "metadata": {},
     "output_type": "execute_result"
    }
   ],
   "source": [
    "simplify((z-x).subs(x, 0)), simplify((z-x).subs(x, 1))"
   ]
  },
  {
   "cell_type": "code",
   "execution_count": 69,
   "metadata": {},
   "outputs": [
    {
     "data": {
      "image/png": "[encoded data removed]",
      "text/latex": [
       "$$\\frac{1}{x \\left(x - 1\\right)} \\left(- \\frac{r \\left(\\frac{x ρ \\left(s + 1\\right)}{s x + 1} - x \\left(ρ - 1\\right)\\right)}{- s \\left(\\frac{x ρ \\left(s + 1\\right)}{s x + 1} - x \\left(ρ - 1\\right)\\right) + s + 1} + x + \\left(r - 1\\right) \\left(\\frac{x ρ \\left(s + 1\\right)}{s x + 1} - x \\left(ρ - 1\\right)\\right)\\right)$$"
      ],
      "text/plain": [
       "         ⎛x⋅ρ⋅(s + 1)            ⎞                                            \n",
       "       r⋅⎜─────────── - x⋅(ρ - 1)⎟                                            \n",
       "         ⎝  s⋅x + 1              ⎠                    ⎛x⋅ρ⋅(s + 1)            \n",
       "- ───────────────────────────────────── + x + (r - 1)⋅⎜─────────── - x⋅(ρ - 1)\n",
       "      ⎛x⋅ρ⋅(s + 1)            ⎞                       ⎝  s⋅x + 1              \n",
       "  - s⋅⎜─────────── - x⋅(ρ - 1)⎟ + s + 1                                       \n",
       "      ⎝  s⋅x + 1              ⎠                                               \n",
       "──────────────────────────────────────────────────────────────────────────────\n",
       "                                   x⋅(x - 1)                                  \n",
       "\n",
       " \n",
       " \n",
       "⎞\n",
       "⎟\n",
       "⎠\n",
       " \n",
       " \n",
       "─\n",
       " "
      ]
     },
     "execution_count": 69,
     "metadata": {},
     "output_type": "execute_result"
    }
   ],
   "source": [
    "G = (z - x) / (x * (1 - x))\n",
    "simplify(G)"
   ]
  },
  {
   "cell_type": "code",
   "execution_count": 70,
   "metadata": {},
   "outputs": [
    {
     "data": {
      "image/png": "[encoded data removed]",
      "text/latex": [
       "$$- \\frac{s}{\\left(s x + 1\\right) \\left(s^{2} x^{2} ρ - s^{2} x^{2} - s^{2} x ρ + s^{2} x + s + 1\\right)} \\left(r s^{2} x^{2} ρ^{2} - 2 r s^{2} x^{2} ρ + r s^{2} x^{2} - r s^{2} x ρ^{2} + r s^{2} x ρ - 2 r s x ρ + 2 r s x + r s ρ + r - s^{2} x^{2} ρ^{2} + s^{2} x^{2} ρ + s^{2} x ρ^{2} - s^{2} x ρ - s ρ - ρ\\right)$$"
      ],
      "text/plain": [
       "   ⎛   2  2  2        2  2        2  2      2    2      2                     \n",
       "-s⋅⎝r⋅s ⋅x ⋅ρ  - 2⋅r⋅s ⋅x ⋅ρ + r⋅s ⋅x  - r⋅s ⋅x⋅ρ  + r⋅s ⋅x⋅ρ - 2⋅r⋅s⋅x⋅ρ + 2⋅\n",
       "──────────────────────────────────────────────────────────────────────────────\n",
       "                                                          ⎛ 2  2      2  2    \n",
       "                                                (s⋅x + 1)⋅⎝s ⋅x ⋅ρ - s ⋅x  - s\n",
       "\n",
       "                     2  2  2    2  2      2    2    2              ⎞ \n",
       "r⋅s⋅x + r⋅s⋅ρ + r - s ⋅x ⋅ρ  + s ⋅x ⋅ρ + s ⋅x⋅ρ  - s ⋅x⋅ρ - s⋅ρ - ρ⎠ \n",
       "─────────────────────────────────────────────────────────────────────\n",
       "2        2          ⎞                                                \n",
       " ⋅x⋅ρ + s ⋅x + s + 1⎠                                                "
      ]
     },
     "execution_count": 70,
     "metadata": {},
     "output_type": "execute_result"
    }
   ],
   "source": [
    "factor(G)"
   ]
  },
  {
   "cell_type": "code",
   "execution_count": 71,
   "metadata": {},
   "outputs": [
    {
     "data": {
      "image/png": "[encoded data removed]",
      "text/latex": [
       "$$r s^{2} x^{2} ρ^{2} - 2 r s^{2} x^{2} ρ + r s^{2} x^{2} - r s^{2} x ρ^{2} + r s^{2} x ρ - 2 r s x ρ + 2 r s x + r s ρ + r - s^{2} x^{2} ρ^{2} + s^{2} x^{2} ρ + s^{2} x ρ^{2} - s^{2} x ρ - s ρ - ρ$$"
      ],
      "text/plain": [
       "   2  2  2        2  2        2  2      2    2      2                         \n",
       "r⋅s ⋅x ⋅ρ  - 2⋅r⋅s ⋅x ⋅ρ + r⋅s ⋅x  - r⋅s ⋅x⋅ρ  + r⋅s ⋅x⋅ρ - 2⋅r⋅s⋅x⋅ρ + 2⋅r⋅s⋅\n",
       "\n",
       "                 2  2  2    2  2      2    2    2              \n",
       "x + r⋅s⋅ρ + r - s ⋅x ⋅ρ  + s ⋅x ⋅ρ + s ⋅x⋅ρ  - s ⋅x⋅ρ - s⋅ρ - ρ"
      ]
     },
     "execution_count": 71,
     "metadata": {},
     "output_type": "execute_result"
    }
   ],
   "source": [
    "G = simplify(G * -(1+s*x)*(s**2 * x**2 * ρ - s**2 * x**2 - s**2 * x * ρ + s**2 * x + s + 1)/s)\n",
    "G"
   ]
  },
  {
   "cell_type": "code",
   "execution_count": 72,
   "metadata": {},
   "outputs": [],
   "source": [
    "a, b, c = Poly(G, x).all_coeffs()"
   ]
  },
  {
   "cell_type": "code",
   "execution_count": 88,
   "metadata": {},
   "outputs": [
    {
     "data": {
      "image/png": "[encoded data removed]",
      "text/latex": [
       "$$s^{2} \\left(r ρ^{2} - 2 r ρ + r - ρ^{2} + ρ\\right)$$"
      ],
      "text/plain": [
       " 2 ⎛   2                2    ⎞\n",
       "s ⋅⎝r⋅ρ  - 2⋅r⋅ρ + r - ρ  + ρ⎠"
      ]
     },
     "execution_count": 88,
     "metadata": {},
     "output_type": "execute_result"
    }
   ],
   "source": [
    "simplify(a)"
   ]
  },
  {
   "cell_type": "code",
   "execution_count": 79,
   "metadata": {},
   "outputs": [
    {
     "data": {
      "image/png": "[encoded data removed]",
      "text/latex": [
       "$$s \\left(- r s ρ^{2} + r s ρ - 2 r ρ + 2 r + s ρ^{2} - s ρ\\right)$$"
      ],
      "text/plain": [
       "  ⎛       2                            2      ⎞\n",
       "s⋅⎝- r⋅s⋅ρ  + r⋅s⋅ρ - 2⋅r⋅ρ + 2⋅r + s⋅ρ  - s⋅ρ⎠"
      ]
     },
     "execution_count": 79,
     "metadata": {},
     "output_type": "execute_result"
    }
   ],
   "source": [
    "simplify(b)"
   ]
  },
  {
   "cell_type": "code",
   "execution_count": 81,
   "metadata": {},
   "outputs": [
    {
     "data": {
      "image/png": "[encoded data removed]",
      "text/latex": [
       "$$r s ρ + r - s ρ - ρ$$"
      ],
      "text/plain": [
       "r⋅s⋅ρ + r - s⋅ρ - ρ"
      ]
     },
     "execution_count": 81,
     "metadata": {},
     "output_type": "execute_result"
    }
   ],
   "source": [
    "simplify(c)"
   ]
  },
  {
   "cell_type": "code",
   "execution_count": 39,
   "metadata": {},
   "outputs": [
    {
     "data": {
      "image/png": "[encoded data removed]",
      "text/latex": [
       "$$\\left ( 0, \\quad 0\\right )$$"
      ],
      "text/plain": [
       "(0, 0)"
      ]
     },
     "execution_count": 39,
     "metadata": {},
     "output_type": "execute_result"
    }
   ],
   "source": [
    "x1, x2 = simplify(solve(G, x))\n",
    "simplify(G.subs({x:x1})), simplify(G.subs({x:x2}))"
   ]
  },
  {
   "cell_type": "code",
   "execution_count": 106,
   "metadata": {},
   "outputs": [
    {
     "data": {
      "image/png": "[encoded data removed]",
      "text/plain": [
       "<matplotlib.figure.Figure at 0x11c5c6940>"
      ]
     },
     "metadata": {},
     "output_type": "display_data"
    }
   ],
   "source": [
    "ρ_ = 0.5\n",
    "s_ = 0.1\n",
    "r_ = np.linspace(ρ_*0.9, ρ_*1.1)\n",
    "plt.plot(\n",
    "    r_,\n",
    "    [x2.subs({s:s_, r:r__, ρ:ρ_}) for r__ in r_],\n",
    "    label=r'$x_2$'\n",
    ")\n",
    "plt.plot(\n",
    "    r_,\n",
    "    [x1.subs({s:s_, r:r__, ρ:ρ_}) for r__ in r_],\n",
    "    label=r'$x_1$'\n",
    ")\n",
    "\n",
    "axline_kws = dict(color='k', lw=0.5)\n",
    "plt.axhline(0, **axline_kws)\n",
    "plt.axhline(1, **axline_kws)\n",
    "plt.axvline(ρ_, **axline_kws, ls='--')\n",
    "plt.axvline(ρ_*(1+s_)/(1+ρ_*s_), **axline_kws, ls='--')\n",
    "plt.axvline(ρ_/(1+s_*(1-ρ_)), **axline_kws, ls='--')\n",
    "plt.fill_between([0,1], 1, 1.1, color='k', alpha=0.1)\n",
    "plt.fill_between([0,1], -0.1, 0, color='k', alpha=0.1)\n",
    "# plt.legend()\n",
    "plt.xlabel(r'$\\rho_2$')\n",
    "plt.ylabel('$x^*$')\n",
    "plt.title(r'$\\rho_1=$' + '{}'.format(ρ_))\n",
    "plt.ylim(-0.1, 1.1)\n",
    "plt.xlim(r_.min(), r_.max())\n",
    "plt.savefig('figures/rho1_rho2_k=1.pdf')"
   ]
  },
  {
   "cell_type": "code",
   "execution_count": 86,
   "metadata": {},
   "outputs": [
    {
     "data": {
      "image/png": "[encoded data removed]",
      "text/latex": [
       "$$0$$"
      ],
      "text/plain": [
       "0"
      ]
     },
     "execution_count": 86,
     "metadata": {},
     "output_type": "execute_result"
    }
   ],
   "source": [
    "simplify(2*a+b-s*(1-ρ)*(2*r*(1+s) +s*ρ*(1-r)))"
   ]
  },
  {
   "cell_type": "code",
   "execution_count": 96,
   "metadata": {},
   "outputs": [
    {
     "data": {
      "image/png": "[encoded data removed]",
      "text/latex": [
       "$$0.5238095238095238$$"
      ],
      "text/plain": [
       "0.5238095238095238"
      ]
     },
     "execution_count": 96,
     "metadata": {},
     "output_type": "execute_result"
    }
   ],
   "source": [
    "ρ_*(1+s_)/(1+ρ_*s_)"
   ]
  },
  {
   "cell_type": "code",
   "execution_count": null,
   "metadata": {},
   "outputs": [],
   "source": []
  }
 ],
 "metadata": {
  "kernelspec": {
   "display_name": "Python [conda env:scipy]",
   "language": "python",
   "name": "conda-env-scipy-py"
  },
  "language_info": {
   "codemirror_mode": {
    "name": "ipython",
    "version": 3
   },
   "file_extension": ".py",
   "mimetype": "text/x-python",
   "name": "python",
   "nbconvert_exporter": "python",
   "pygments_lexer": "ipython3",
   "version": "3.6.3"
  }
 },
 "nbformat": 4,
 "nbformat_minor": 2
}
