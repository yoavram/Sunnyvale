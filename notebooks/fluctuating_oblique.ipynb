{
 "cells": [
  {
   "cell_type": "code",
   "execution_count": 1,
   "metadata": {},
   "outputs": [],
   "source": [
    "%matplotlib inline\n",
    "import matplotlib.pyplot as plt\n",
    "import numpy as np\n",
    "import matplotlib as mpl\n",
    "import scipy.stats as st\n",
    "import scipy.special as sp\n",
    "from scipy.integrate import quad, dblquad\n",
    "import seaborn as sns\n",
    "\n",
    "from ipywidgets import interact\n",
    "sns.set(style='ticks', context='paper', font_scale=1.5)\n",
    "\n",
    "from rakott.mpl import fig_panel_labels, fig_xlabel\n",
    "\n",
    "import sympy as sm\n",
    "sm.init_printing()"
   ]
  },
  {
   "cell_type": "markdown",
   "metadata": {},
   "source": [
    "# Fluctuating transmission, constant selection"
   ]
  },
  {
   "cell_type": "code",
   "execution_count": 2,
   "metadata": {},
   "outputs": [],
   "source": [
    "x, w, ρ, r, s = sm.symbols('x w ρ r s')"
   ]
  },
  {
   "cell_type": "code",
   "execution_count": 3,
   "metadata": {},
   "outputs": [
    {
     "data": {
      "image/png": "[encoded data removed]",
      "text/latex": [
       "$$\\frac{x}{s x + 1} \\left(s x \\left(- ρ + 1\\right) + s ρ + 1\\right)$$"
      ],
      "text/plain": [
       "x⋅(s⋅x⋅(-ρ + 1) + s⋅ρ + 1)\n",
       "──────────────────────────\n",
       "         s⋅x + 1          "
      ]
     },
     "execution_count": 3,
     "metadata": {},
     "output_type": "execute_result"
    }
   ],
   "source": [
    "y = x * (x * s * (1 - ρ) + 1 + ρ * s) / (1 + x * s)\n",
    "y"
   ]
  },
  {
   "cell_type": "code",
   "execution_count": 4,
   "metadata": {},
   "outputs": [
    {
     "data": {
      "image/png": "[encoded data removed]",
      "text/latex": [
       "$$\\frac{x \\left(r s + \\frac{s x}{s x + 1} \\left(- r + 1\\right) \\left(s x \\left(- ρ + 1\\right) + s ρ + 1\\right) + 1\\right) \\left(s x \\left(- ρ + 1\\right) + s ρ + 1\\right)}{\\left(s x + 1\\right) \\left(\\frac{s x}{s x + 1} \\left(s x \\left(- ρ + 1\\right) + s ρ + 1\\right) + 1\\right)}$$"
      ],
      "text/plain": [
       "  ⎛      s⋅x⋅(-r + 1)⋅(s⋅x⋅(-ρ + 1) + s⋅ρ + 1)    ⎞                         \n",
       "x⋅⎜r⋅s + ───────────────────────────────────── + 1⎟⋅(s⋅x⋅(-ρ + 1) + s⋅ρ + 1)\n",
       "  ⎝                     s⋅x + 1                   ⎠                         \n",
       "────────────────────────────────────────────────────────────────────────────\n",
       "                          ⎛s⋅x⋅(s⋅x⋅(-ρ + 1) + s⋅ρ + 1)    ⎞                \n",
       "                (s⋅x + 1)⋅⎜──────────────────────────── + 1⎟                \n",
       "                          ⎝          s⋅x + 1               ⎠                "
      ]
     },
     "execution_count": 4,
     "metadata": {},
     "output_type": "execute_result"
    }
   ],
   "source": [
    "z = y * (y * s * (1 - r) + 1 + r * s) / (1 + y * s)\n",
    "z"
   ]
  },
  {
   "cell_type": "markdown",
   "metadata": {},
   "source": [
    "## Solve x''=x"
   ]
  },
  {
   "cell_type": "code",
   "execution_count": 5,
   "metadata": {},
   "outputs": [
    {
     "data": {
      "image/png": "[encoded data removed]",
      "text/latex": [
       "$$\\left ( 0, \\quad 0\\right )$$"
      ],
      "text/plain": [
       "(0, 0)"
      ]
     },
     "execution_count": 5,
     "metadata": {},
     "output_type": "execute_result"
    }
   ],
   "source": [
    "sm.simplify((z-x).subs(x, 0)), sm.simplify((z-x).subs(x, 1))"
   ]
  },
  {
   "cell_type": "code",
   "execution_count": 6,
   "metadata": {},
   "outputs": [
    {
     "data": {
      "image/png": "[encoded data removed]",
      "text/latex": [
       "$$\\frac{1}{\\left(x - 1\\right) \\left(s x + 1\\right) \\left(s x \\left(- s x \\left(ρ - 1\\right) + s ρ + 1\\right) + s x + 1\\right)} \\left(\\left(s x + 1\\right) \\left(s x \\left(- s x \\left(ρ - 1\\right) + s ρ + 1\\right) + s x + 1\\right) - \\left(- s x \\left(r - 1\\right) \\left(- s x \\left(ρ - 1\\right) + s ρ + 1\\right) + \\left(r s + 1\\right) \\left(s x + 1\\right)\\right) \\left(- s x \\left(ρ - 1\\right) + s ρ + 1\\right)\\right)$$"
      ],
      "text/plain": [
       "(s⋅x + 1)⋅(s⋅x⋅(-s⋅x⋅(ρ - 1) + s⋅ρ + 1) + s⋅x + 1) - (-s⋅x⋅(r - 1)⋅(-s⋅x⋅(ρ - \n",
       "──────────────────────────────────────────────────────────────────────────────\n",
       "                                         (x - 1)⋅(s⋅x + 1)⋅(s⋅x⋅(-s⋅x⋅(ρ - 1) \n",
       "\n",
       "1) + s⋅ρ + 1) + (r⋅s + 1)⋅(s⋅x + 1))⋅(-s⋅x⋅(ρ - 1) + s⋅ρ + 1)\n",
       "─────────────────────────────────────────────────────────────\n",
       "+ s⋅ρ + 1) + s⋅x + 1)                                        "
      ]
     },
     "execution_count": 6,
     "metadata": {},
     "output_type": "execute_result"
    }
   ],
   "source": [
    "G = (z - x) / (x * (1 - x))\n",
    "sm.simplify(G)"
   ]
  },
  {
   "cell_type": "code",
   "execution_count": 7,
   "metadata": {},
   "outputs": [
    {
     "data": {
      "image/png": "[encoded data removed]",
      "text/latex": [
       "$$- \\frac{s}{\\left(s x + 1\\right) \\left(s^{2} x^{2} ρ - s^{2} x^{2} - s^{2} x ρ - 2 s x - 1\\right)} \\left(r s^{2} x^{2} ρ^{2} - 2 r s^{2} x^{2} ρ + r s^{2} x^{2} - r s^{2} x ρ^{2} + r s^{2} x ρ - 2 r s x ρ + 2 r s x + r s ρ + r - s^{2} x^{2} ρ^{2} + s^{2} x^{2} ρ + s^{2} x ρ^{2} + 2 s x ρ + ρ\\right)$$"
      ],
      "text/plain": [
       "   ⎛   2  2  2        2  2        2  2      2    2      2                     \n",
       "-s⋅⎝r⋅s ⋅x ⋅ρ  - 2⋅r⋅s ⋅x ⋅ρ + r⋅s ⋅x  - r⋅s ⋅x⋅ρ  + r⋅s ⋅x⋅ρ - 2⋅r⋅s⋅x⋅ρ + 2⋅\n",
       "──────────────────────────────────────────────────────────────────────────────\n",
       "                                                         ⎛ 2  2      2  2    2\n",
       "                                               (s⋅x + 1)⋅⎝s ⋅x ⋅ρ - s ⋅x  - s \n",
       "\n",
       "                     2  2  2    2  2      2    2              ⎞ \n",
       "r⋅s⋅x + r⋅s⋅ρ + r - s ⋅x ⋅ρ  + s ⋅x ⋅ρ + s ⋅x⋅ρ  + 2⋅s⋅x⋅ρ + ρ⎠ \n",
       "────────────────────────────────────────────────────────────────\n",
       "                ⎞                                               \n",
       "⋅x⋅ρ - 2⋅s⋅x - 1⎠                                               "
      ]
     },
     "execution_count": 7,
     "metadata": {},
     "output_type": "execute_result"
    }
   ],
   "source": [
    "sm.factor(G)"
   ]
  },
  {
   "cell_type": "code",
   "execution_count": 8,
   "metadata": {},
   "outputs": [
    {
     "data": {
      "image/png": "[encoded data removed]",
      "text/latex": [
       "$$r s^{2} x^{2} ρ^{2} - 2 r s^{2} x^{2} ρ + r s^{2} x^{2} - r s^{2} x ρ^{2} + r s^{2} x ρ - 2 r s x ρ + 2 r s x + r s ρ + r - s^{2} x^{2} ρ^{2} + s^{2} x^{2} ρ + s^{2} x ρ^{2} + 2 s x ρ + ρ$$"
      ],
      "text/plain": [
       "   2  2  2        2  2        2  2      2    2      2                         \n",
       "r⋅s ⋅x ⋅ρ  - 2⋅r⋅s ⋅x ⋅ρ + r⋅s ⋅x  - r⋅s ⋅x⋅ρ  + r⋅s ⋅x⋅ρ - 2⋅r⋅s⋅x⋅ρ + 2⋅r⋅s⋅\n",
       "\n",
       "                 2  2  2    2  2      2    2              \n",
       "x + r⋅s⋅ρ + r - s ⋅x ⋅ρ  + s ⋅x ⋅ρ + s ⋅x⋅ρ  + 2⋅s⋅x⋅ρ + ρ"
      ]
     },
     "execution_count": 8,
     "metadata": {},
     "output_type": "execute_result"
    }
   ],
   "source": [
    "G = sm.simplify(G * (1 + x * s) * (1 + x * s * (2 + s * ρ) + x**2 * s **2 * (1 - ρ)) / s)\n",
    "G"
   ]
  },
  {
   "cell_type": "code",
   "execution_count": 9,
   "metadata": {},
   "outputs": [],
   "source": [
    "a, b, c = sm.Poly(G, x).all_coeffs()"
   ]
  },
  {
   "cell_type": "code",
   "execution_count": 10,
   "metadata": {},
   "outputs": [
    {
     "data": {
      "image/png": "[encoded data removed]",
      "text/latex": [
       "$$s^{2} \\left(r ρ^{2} - 2 r ρ + r - ρ^{2} + ρ\\right)$$"
      ],
      "text/plain": [
       " 2 ⎛   2                2    ⎞\n",
       "s ⋅⎝r⋅ρ  - 2⋅r⋅ρ + r - ρ  + ρ⎠"
      ]
     },
     "execution_count": 10,
     "metadata": {},
     "output_type": "execute_result"
    }
   ],
   "source": [
    "sm.simplify(a)"
   ]
  },
  {
   "cell_type": "code",
   "execution_count": 11,
   "metadata": {},
   "outputs": [
    {
     "data": {
      "image/png": "[encoded data removed]",
      "text/latex": [
       "$$s \\left(- r s ρ^{2} + r s ρ - 2 r ρ + 2 r + s ρ^{2} + 2 ρ\\right)$$"
      ],
      "text/plain": [
       "  ⎛       2                            2      ⎞\n",
       "s⋅⎝- r⋅s⋅ρ  + r⋅s⋅ρ - 2⋅r⋅ρ + 2⋅r + s⋅ρ  + 2⋅ρ⎠"
      ]
     },
     "execution_count": 11,
     "metadata": {},
     "output_type": "execute_result"
    }
   ],
   "source": [
    "sm.simplify(b)"
   ]
  },
  {
   "cell_type": "code",
   "execution_count": 12,
   "metadata": {},
   "outputs": [
    {
     "data": {
      "image/png": "[encoded data removed]",
      "text/latex": [
       "$$r s ρ + r + ρ$$"
      ],
      "text/plain": [
       "r⋅s⋅ρ + r + ρ"
      ]
     },
     "execution_count": 12,
     "metadata": {},
     "output_type": "execute_result"
    }
   ],
   "source": [
    "sm.simplify(c)"
   ]
  },
  {
   "cell_type": "code",
   "execution_count": 13,
   "metadata": {},
   "outputs": [
    {
     "ename": "NameError",
     "evalue": "name 'solve' is not defined",
     "output_type": "error",
     "traceback": [
      "\u001b[0;31m---------------------------------------------------------------------------\u001b[0m",
      "\u001b[0;31mNameError\u001b[0m                                 Traceback (most recent call last)",
      "\u001b[0;32m<ipython-input-13-e79d391622d3>\u001b[0m in \u001b[0;36m<module>\u001b[0;34m()\u001b[0m\n\u001b[0;32m----> 1\u001b[0;31m \u001b[0mx1\u001b[0m\u001b[0;34m,\u001b[0m \u001b[0mx2\u001b[0m \u001b[0;34m=\u001b[0m \u001b[0msm\u001b[0m\u001b[0;34m.\u001b[0m\u001b[0msimplify\u001b[0m\u001b[0;34m(\u001b[0m\u001b[0msolve\u001b[0m\u001b[0;34m(\u001b[0m\u001b[0mG\u001b[0m\u001b[0;34m,\u001b[0m \u001b[0mx\u001b[0m\u001b[0;34m)\u001b[0m\u001b[0;34m)\u001b[0m\u001b[0;34m\u001b[0m\u001b[0m\n\u001b[0m\u001b[1;32m      2\u001b[0m \u001b[0msm\u001b[0m\u001b[0;34m.\u001b[0m\u001b[0msimplify\u001b[0m\u001b[0;34m(\u001b[0m\u001b[0mG\u001b[0m\u001b[0;34m.\u001b[0m\u001b[0msubs\u001b[0m\u001b[0;34m(\u001b[0m\u001b[0;34m{\u001b[0m\u001b[0mx\u001b[0m\u001b[0;34m:\u001b[0m\u001b[0mx1\u001b[0m\u001b[0;34m}\u001b[0m\u001b[0;34m)\u001b[0m\u001b[0;34m)\u001b[0m\u001b[0;34m,\u001b[0m \u001b[0msm\u001b[0m\u001b[0;34m.\u001b[0m\u001b[0msimplify\u001b[0m\u001b[0;34m(\u001b[0m\u001b[0mG\u001b[0m\u001b[0;34m.\u001b[0m\u001b[0msubs\u001b[0m\u001b[0;34m(\u001b[0m\u001b[0;34m{\u001b[0m\u001b[0mx\u001b[0m\u001b[0;34m:\u001b[0m\u001b[0mx2\u001b[0m\u001b[0;34m}\u001b[0m\u001b[0;34m)\u001b[0m\u001b[0;34m)\u001b[0m\u001b[0;34m\u001b[0m\u001b[0m\n",
      "\u001b[0;31mNameError\u001b[0m: name 'solve' is not defined"
     ]
    }
   ],
   "source": [
    "x1, x2 = sm.simplify(sm.solve(G, x))\n",
    "sm.simplify(G.subs({x:x1})), sm.simplify(G.subs({x:x2}))"
   ]
  },
  {
   "cell_type": "code",
   "execution_count": null,
   "metadata": {},
   "outputs": [],
   "source": [
    "ρ_ = 0.01\n",
    "s_ = 0.1\n",
    "r_ = np.linspace(0, 1)\n",
    "plt.plot(\n",
    "    r_,\n",
    "    [x1.subs({s:s_, r:r__, ρ:ρ_}) for r__ in r_],\n",
    "    label=r'$x_1$'\n",
    ")\n",
    "plt.plot(\n",
    "    r_,\n",
    "    [x2.subs({s:s_, r:r__, ρ:ρ_}) for r__ in r_],\n",
    "    label=r'$x_2$'\n",
    ")\n",
    "plt.axhline(0, color='k')\n",
    "plt.axhline(1, color='k')\n",
    "plt.legend()\n",
    "plt.xlabel('$r$')\n",
    "plt.ylabel('fixed point')"
   ]
  },
  {
   "cell_type": "code",
   "execution_count": null,
   "metadata": {},
   "outputs": [],
   "source": [
    "def recursion(x, s, ρ, r):\n",
    "    wbar = 1 + s * x\n",
    "    x = ρ * (1 + s) * x / wbar + (1-ρ) * x\n",
    "    wbar = 1 + s * x\n",
    "    x = r * (1 + s) * x / wbar + (1 - r) * x\n",
    "    return x"
   ]
  },
  {
   "cell_type": "code",
   "execution_count": null,
   "metadata": {},
   "outputs": [],
   "source": [
    "ρ = 0.1\n",
    "r = 0.2\n",
    "s = 0.5\n",
    "\n",
    "x0 = 0.5\n",
    "n = 1000\n",
    "\n",
    "x = np.empty(n)\n",
    "x[0] = x0\n",
    "\n",
    "for t in range(1, n):\n",
    "    x[t] = recursion(x[t-1], s, ρ, r)\n",
    "    \n",
    "plt.plot(x);"
   ]
  },
  {
   "cell_type": "markdown",
   "metadata": {},
   "source": [
    "## Diff x''"
   ]
  },
  {
   "cell_type": "code",
   "execution_count": 14,
   "metadata": {},
   "outputs": [
    {
     "data": {
      "image/png": "[encoded data removed]",
      "text/latex": [
       "$$\\left(r s + 1\\right) \\left(s ρ + 1\\right)$$"
      ],
      "text/plain": [
       "(r⋅s + 1)⋅(s⋅ρ + 1)"
      ]
     },
     "execution_count": 14,
     "metadata": {},
     "output_type": "execute_result"
    }
   ],
   "source": [
    "sm.simplify(sm.diff(z, x).subs({x: 0}))"
   ]
  },
  {
   "cell_type": "code",
   "execution_count": 15,
   "metadata": {},
   "outputs": [
    {
     "data": {
      "image/png": "[encoded data removed]",
      "text/latex": [
       "$$\\frac{1}{s^{2} + 2 s + 1} \\left(r s^{2} x ρ - r s^{2} x - r s^{2} ρ + r s^{2} - r s x + r s - s^{2} x ρ + s^{2} x + s^{2} ρ - s x ρ + 2 s x + s ρ + x\\right)$$"
      ],
      "text/plain": [
       "   2          2        2        2                  2        2      2          \n",
       "r⋅s ⋅x⋅ρ - r⋅s ⋅x - r⋅s ⋅ρ + r⋅s  - r⋅s⋅x + r⋅s - s ⋅x⋅ρ + s ⋅x + s ⋅ρ - s⋅x⋅ρ\n",
       "──────────────────────────────────────────────────────────────────────────────\n",
       "                                           2                                  \n",
       "                                          s  + 2⋅s + 1                        \n",
       "\n",
       "                  \n",
       " + 2⋅s⋅x + s⋅ρ + x\n",
       "──────────────────\n",
       "                  \n",
       "                  "
      ]
     },
     "execution_count": 15,
     "metadata": {},
     "output_type": "execute_result"
    }
   ],
   "source": [
    "sm.simplify(sm.diff(z, x).subs({x: 1})*(x-1) + 1, 100)"
   ]
  },
  {
   "cell_type": "markdown",
   "metadata": {},
   "source": [
    "# Fluctuating transmission and selection"
   ]
  },
  {
   "cell_type": "code",
   "execution_count": 16,
   "metadata": {},
   "outputs": [
    {
     "data": {
      "image/png": "[encoded data removed]",
      "text/latex": [
       "$$\\frac{x ρ \\left(s + 1\\right)}{s x + 1} + x \\left(- ρ + 1\\right)$$"
      ],
      "text/plain": [
       "x⋅ρ⋅(s + 1)             \n",
       "─────────── + x⋅(-ρ + 1)\n",
       "  s⋅x + 1               "
      ]
     },
     "execution_count": 16,
     "metadata": {},
     "output_type": "execute_result"
    }
   ],
   "source": [
    "y = ρ * (1+s)/(1+s*x) * x + (1-ρ)*x\n",
    "y"
   ]
  },
  {
   "cell_type": "code",
   "execution_count": 17,
   "metadata": {},
   "outputs": [
    {
     "data": {
      "image/png": "[encoded data removed]",
      "text/latex": [
       "$$\\frac{r \\left(\\frac{x ρ \\left(s + 1\\right)}{s x + 1} + x \\left(- ρ + 1\\right)\\right)}{- s \\left(\\frac{x ρ \\left(s + 1\\right)}{s x + 1} + x \\left(- ρ + 1\\right)\\right) + s + 1} + \\left(- r + 1\\right) \\left(\\frac{x ρ \\left(s + 1\\right)}{s x + 1} + x \\left(- ρ + 1\\right)\\right)$$"
      ],
      "text/plain": [
       "       ⎛x⋅ρ⋅(s + 1)             ⎞                                           \n",
       "     r⋅⎜─────────── + x⋅(-ρ + 1)⎟                                           \n",
       "       ⎝  s⋅x + 1               ⎠                 ⎛x⋅ρ⋅(s + 1)             ⎞\n",
       "────────────────────────────────────── + (-r + 1)⋅⎜─────────── + x⋅(-ρ + 1)⎟\n",
       "    ⎛x⋅ρ⋅(s + 1)             ⎞                    ⎝  s⋅x + 1               ⎠\n",
       "- s⋅⎜─────────── + x⋅(-ρ + 1)⎟ + s + 1                                      \n",
       "    ⎝  s⋅x + 1               ⎠                                              "
      ]
     },
     "execution_count": 17,
     "metadata": {},
     "output_type": "execute_result"
    }
   ],
   "source": [
    "z = r * 1/(1+s-s*y) * y + (1-r)*y\n",
    "z"
   ]
  },
  {
   "cell_type": "markdown",
   "metadata": {},
   "source": [
    "## Solve x''=x"
   ]
  },
  {
   "cell_type": "code",
   "execution_count": 18,
   "metadata": {},
   "outputs": [
    {
     "data": {
      "image/png": "[encoded data removed]",
      "text/latex": [
       "$$\\left ( 0, \\quad 0\\right )$$"
      ],
      "text/plain": [
       "(0, 0)"
      ]
     },
     "execution_count": 18,
     "metadata": {},
     "output_type": "execute_result"
    }
   ],
   "source": [
    "sm.simplify((z-x).subs(x, 0)), sm.simplify((z-x).subs(x, 1))"
   ]
  },
  {
   "cell_type": "code",
   "execution_count": 19,
   "metadata": {},
   "outputs": [
    {
     "data": {
      "image/png": "[encoded data removed]",
      "text/latex": [
       "$$\\frac{1}{x \\left(x - 1\\right)} \\left(- \\frac{r \\left(\\frac{x ρ \\left(s + 1\\right)}{s x + 1} - x \\left(ρ - 1\\right)\\right)}{- s \\left(\\frac{x ρ \\left(s + 1\\right)}{s x + 1} - x \\left(ρ - 1\\right)\\right) + s + 1} + x + \\left(r - 1\\right) \\left(\\frac{x ρ \\left(s + 1\\right)}{s x + 1} - x \\left(ρ - 1\\right)\\right)\\right)$$"
      ],
      "text/plain": [
       "         ⎛x⋅ρ⋅(s + 1)            ⎞                                            \n",
       "       r⋅⎜─────────── - x⋅(ρ - 1)⎟                                            \n",
       "         ⎝  s⋅x + 1              ⎠                    ⎛x⋅ρ⋅(s + 1)            \n",
       "- ───────────────────────────────────── + x + (r - 1)⋅⎜─────────── - x⋅(ρ - 1)\n",
       "      ⎛x⋅ρ⋅(s + 1)            ⎞                       ⎝  s⋅x + 1              \n",
       "  - s⋅⎜─────────── - x⋅(ρ - 1)⎟ + s + 1                                       \n",
       "      ⎝  s⋅x + 1              ⎠                                               \n",
       "──────────────────────────────────────────────────────────────────────────────\n",
       "                                   x⋅(x - 1)                                  \n",
       "\n",
       " \n",
       " \n",
       "⎞\n",
       "⎟\n",
       "⎠\n",
       " \n",
       " \n",
       "─\n",
       " "
      ]
     },
     "execution_count": 19,
     "metadata": {},
     "output_type": "execute_result"
    }
   ],
   "source": [
    "G = (z - x) / (x * (1 - x))\n",
    "sm.simplify(G)"
   ]
  },
  {
   "cell_type": "code",
   "execution_count": 20,
   "metadata": {},
   "outputs": [
    {
     "data": {
      "image/png": "[encoded data removed]",
      "text/latex": [
       "$$- \\frac{s}{\\left(s x + 1\\right) \\left(s^{2} x^{2} ρ - s^{2} x^{2} - s^{2} x ρ + s^{2} x + s + 1\\right)} \\left(r s^{2} x^{2} ρ^{2} - 2 r s^{2} x^{2} ρ + r s^{2} x^{2} - r s^{2} x ρ^{2} + r s^{2} x ρ - 2 r s x ρ + 2 r s x + r s ρ + r - s^{2} x^{2} ρ^{2} + s^{2} x^{2} ρ + s^{2} x ρ^{2} - s^{2} x ρ - s ρ - ρ\\right)$$"
      ],
      "text/plain": [
       "   ⎛   2  2  2        2  2        2  2      2    2      2                     \n",
       "-s⋅⎝r⋅s ⋅x ⋅ρ  - 2⋅r⋅s ⋅x ⋅ρ + r⋅s ⋅x  - r⋅s ⋅x⋅ρ  + r⋅s ⋅x⋅ρ - 2⋅r⋅s⋅x⋅ρ + 2⋅\n",
       "──────────────────────────────────────────────────────────────────────────────\n",
       "                                                          ⎛ 2  2      2  2    \n",
       "                                                (s⋅x + 1)⋅⎝s ⋅x ⋅ρ - s ⋅x  - s\n",
       "\n",
       "                     2  2  2    2  2      2    2    2              ⎞ \n",
       "r⋅s⋅x + r⋅s⋅ρ + r - s ⋅x ⋅ρ  + s ⋅x ⋅ρ + s ⋅x⋅ρ  - s ⋅x⋅ρ - s⋅ρ - ρ⎠ \n",
       "─────────────────────────────────────────────────────────────────────\n",
       "2        2          ⎞                                                \n",
       " ⋅x⋅ρ + s ⋅x + s + 1⎠                                                "
      ]
     },
     "execution_count": 20,
     "metadata": {},
     "output_type": "execute_result"
    }
   ],
   "source": [
    "sm.factor(G)"
   ]
  },
  {
   "cell_type": "code",
   "execution_count": 21,
   "metadata": {},
   "outputs": [
    {
     "data": {
      "image/png": "[encoded data removed]",
      "text/latex": [
       "$$r s^{2} x^{2} ρ^{2} - 2 r s^{2} x^{2} ρ + r s^{2} x^{2} - r s^{2} x ρ^{2} + r s^{2} x ρ - 2 r s x ρ + 2 r s x + r s ρ + r - s^{2} x^{2} ρ^{2} + s^{2} x^{2} ρ + s^{2} x ρ^{2} - s^{2} x ρ - s ρ - ρ$$"
      ],
      "text/plain": [
       "   2  2  2        2  2        2  2      2    2      2                         \n",
       "r⋅s ⋅x ⋅ρ  - 2⋅r⋅s ⋅x ⋅ρ + r⋅s ⋅x  - r⋅s ⋅x⋅ρ  + r⋅s ⋅x⋅ρ - 2⋅r⋅s⋅x⋅ρ + 2⋅r⋅s⋅\n",
       "\n",
       "                 2  2  2    2  2      2    2    2              \n",
       "x + r⋅s⋅ρ + r - s ⋅x ⋅ρ  + s ⋅x ⋅ρ + s ⋅x⋅ρ  - s ⋅x⋅ρ - s⋅ρ - ρ"
      ]
     },
     "execution_count": 21,
     "metadata": {},
     "output_type": "execute_result"
    }
   ],
   "source": [
    "G = sm.simplify(G * -(1+s*x)*(s**2 * x**2 * ρ - s**2 * x**2 - s**2 * x * ρ + s**2 * x + s + 1)/s)\n",
    "G"
   ]
  },
  {
   "cell_type": "code",
   "execution_count": 22,
   "metadata": {},
   "outputs": [],
   "source": [
    "a, b, c = sm.Poly(G, x).all_coeffs()"
   ]
  },
  {
   "cell_type": "code",
   "execution_count": 23,
   "metadata": {},
   "outputs": [
    {
     "data": {
      "image/png": "[encoded data removed]",
      "text/latex": [
       "$$s^{2} \\left(r ρ^{2} - 2 r ρ + r - ρ^{2} + ρ\\right)$$"
      ],
      "text/plain": [
       " 2 ⎛   2                2    ⎞\n",
       "s ⋅⎝r⋅ρ  - 2⋅r⋅ρ + r - ρ  + ρ⎠"
      ]
     },
     "execution_count": 23,
     "metadata": {},
     "output_type": "execute_result"
    }
   ],
   "source": [
    "sm.simplify(a)"
   ]
  },
  {
   "cell_type": "code",
   "execution_count": 24,
   "metadata": {},
   "outputs": [
    {
     "data": {
      "image/png": "[encoded data removed]",
      "text/latex": [
       "$$s \\left(- r s ρ^{2} + r s ρ - 2 r ρ + 2 r + s ρ^{2} - s ρ\\right)$$"
      ],
      "text/plain": [
       "  ⎛       2                            2      ⎞\n",
       "s⋅⎝- r⋅s⋅ρ  + r⋅s⋅ρ - 2⋅r⋅ρ + 2⋅r + s⋅ρ  - s⋅ρ⎠"
      ]
     },
     "execution_count": 24,
     "metadata": {},
     "output_type": "execute_result"
    }
   ],
   "source": [
    "sm.simplify(b)"
   ]
  },
  {
   "cell_type": "code",
   "execution_count": 25,
   "metadata": {},
   "outputs": [
    {
     "data": {
      "image/png": "[encoded data removed]",
      "text/latex": [
       "$$r s ρ + r - s ρ - ρ$$"
      ],
      "text/plain": [
       "r⋅s⋅ρ + r - s⋅ρ - ρ"
      ]
     },
     "execution_count": 25,
     "metadata": {},
     "output_type": "execute_result"
    }
   ],
   "source": [
    "sm.simplify(c)"
   ]
  },
  {
   "cell_type": "code",
   "execution_count": 27,
   "metadata": {},
   "outputs": [
    {
     "data": {
      "image/png": "[encoded data removed]",
      "text/latex": [
       "$$\\left ( 0, \\quad 0\\right )$$"
      ],
      "text/plain": [
       "(0, 0)"
      ]
     },
     "execution_count": 27,
     "metadata": {},
     "output_type": "execute_result"
    }
   ],
   "source": [
    "x1, x2 = sm.simplify(sm.solve(G, x))\n",
    "sm.simplify(G.subs({x:x1})), sm.simplify(G.subs({x:x2}))"
   ]
  },
  {
   "cell_type": "code",
   "execution_count": 31,
   "metadata": {},
   "outputs": [
    {
     "data": {
      "image/png": "[encoded data removed]",
      "text/plain": [
       "<matplotlib.figure.Figure at 0x11f1f7438>"
      ]
     },
     "metadata": {},
     "output_type": "display_data"
    }
   ],
   "source": [
    "ρ_ = 0.5\n",
    "s_ = 0.1\n",
    "r_ = np.linspace(ρ_*0.9, ρ_*1.1)\n",
    "plt.plot(\n",
    "    r_,\n",
    "    [x2.subs({s:s_, r:r__, ρ:ρ_}) for r__ in r_],\n",
    "    label=r'$x_2$'\n",
    ")\n",
    "plt.plot(\n",
    "    r_,\n",
    "    [x1.subs({s:s_, r:r__, ρ:ρ_}) for r__ in r_],\n",
    "    label=r'$x_1$'\n",
    ")\n",
    "\n",
    "axline_kws = dict(color='k', lw=0.5)\n",
    "plt.axhline(0, **axline_kws)\n",
    "plt.axhline(1, **axline_kws)\n",
    "plt.axvline(ρ_, **axline_kws, ls='--')\n",
    "plt.axvline(ρ_*(1+s_)/(1+ρ_*s_), **axline_kws, ls='--')\n",
    "plt.axvline(ρ_/(1+s_*(1-ρ_)), **axline_kws, ls='--')\n",
    "plt.fill_between([0,1], 1, 1.1, color='k', alpha=0.1)\n",
    "plt.fill_between([0,1], -0.1, 0, color='k', alpha=0.1)\n",
    "# plt.legend()\n",
    "plt.xlabel(r'$\\rho_2$')\n",
    "plt.ylabel('$x^*$')\n",
    "plt.title(r'$\\rho_1=$' + '{}'.format(ρ_))\n",
    "plt.ylim(-0.1, 1.1)\n",
    "plt.xlim(r_.min(), r_.max())\n",
    "plt.savefig('../figures/rho1_rho2_k=1.pdf')"
   ]
  },
  {
   "cell_type": "code",
   "execution_count": 86,
   "metadata": {},
   "outputs": [
    {
     "data": {
      "image/png": "[encoded data removed]",
      "text/latex": [
       "$$0$$"
      ],
      "text/plain": [
       "0"
      ]
     },
     "execution_count": 86,
     "metadata": {},
     "output_type": "execute_result"
    }
   ],
   "source": [
    "sm.simplify(2*a+b-s*(1-ρ)*(2*r*(1+s) +s*ρ*(1-r)))"
   ]
  },
  {
   "cell_type": "code",
   "execution_count": 118,
   "metadata": {},
   "outputs": [],
   "source": [
    "ρ_ = 0.5\n",
    "r_ = np.linspace(ρ_-0.04, ρ_+0.04, 101)\n",
    "s_ = np.logspace(-3, -1, 51)\n",
    "x_ = np.array([[x2.subs({s:s__, r:r__, ρ:ρ_}) for s__ in s_] for r__ in r_], dtype=np.float64)"
   ]
  },
  {
   "cell_type": "code",
   "execution_count": 129,
   "metadata": {},
   "outputs": [
    {
     "data": {
      "image/png": "[encoded data removed]",
      "text/plain": [
       "<matplotlib.figure.Figure at 0x123010208>"
      ]
     },
     "metadata": {},
     "output_type": "display_data"
    }
   ],
   "source": [
    "fig, ax = plt.subplots(figsize=(6,5))\n",
    "im = ax.pcolormesh(\n",
    "    s_, r_-ρ_, x_, vmin=0, vmax=1, cmap='RdBu_r', rasterized=True#(0<=x_)&(x_<=1), cmap='gray'\n",
    ")\n",
    "# ax.contour(s_, r_, ρ_*(1+s_)/(1+ρ_*s_))\n",
    "ax.set(\n",
    "    xscale='log',\n",
    "    xlabel=r'Selection coefficient, $s$',\n",
    "    ylabel=r'Vertical transmission rate difference, $\\rho_B-\\rho_A$',\n",
    "    yticks=np.linspace(-0.04, 0.04, 5)\n",
    ")\n",
    "linekws = dict(lw=2, ls='--', color='#888888')\n",
    "ax.plot(s_, ρ_*(1+s_)/(1+ρ_*s_)-ρ_, **linekws)\n",
    "ax.plot(s_, ρ_/(1+s_*(1-ρ_))-ρ_, **linekws)\n",
    "ax.text(2e-3, 0.033, '$B$ fixation', color='w')\n",
    "ax.text(2e-3, -0.035, '$A$ fixation', color='w')\n",
    "ax.annotate('Polymorphism', (5e-2, 0.5-ρ_), (2e-3, 0.51-ρ_), \n",
    "             arrowprops=dict(width=1, color='w'), color='w');\n",
    "cb = plt.colorbar(im)\n",
    "cb.set_label(r'Stable frequency of $A$, $x^*$')\n",
    "cb.set_ticks(np.linspace(0, 1, 5))\n",
    "fig.tight_layout()\n",
    "fig.savefig('../figures/rho1_rho2_phase_k=1.pdf')"
   ]
  },
  {
   "cell_type": "markdown",
   "metadata": {},
   "source": [
    "# Stochastic environment"
   ]
  },
  {
   "cell_type": "code",
   "execution_count": 3,
   "metadata": {},
   "outputs": [
    {
     "data": {
      "image/png": "[encoded data removed]",
      "text/plain": [
       "<matplotlib.figure.Figure at 0x112442208>"
      ]
     },
     "metadata": {},
     "output_type": "display_data"
    }
   ],
   "source": [
    "\n",
    "fig, axes = plt.subplots(1, 4, figsize=(12, 3), sharex=False, sharey=False)\n",
    "\n",
    "ax = axes[0]\n",
    "# for s in [ -0.5, -0.1, 0.1, 0.5]:\n",
    "#     a = 1+s\n",
    "#     b = 1\n",
    "#     x = np.linspace(0, 1, 1000)\n",
    "#     f = st.beta(a, b).pdf(x)\n",
    "#     ax.plot(x, f, label=s)\n",
    "# ax.set_xlim(0, 1)\n",
    "# # ax.set_xlabel(r'Vertical transmission rate, $\\rho_t$')\n",
    "# ax.set_ylabel(r'Frequency, $f(\\rho_t)$')\n",
    "# ax.set_ylim(0, 2)\n",
    "# ax.legend(loc='lower right', ncol=2)#title='selection coefficient, $s_t$', \n",
    "\n",
    "wA = np.random.uniform(0, 1, size=100000)\n",
    "wB = np.random.uniform(0, 1, size=100000)\n",
    "s = wA/wB - 1\n",
    "ρ = np.random.beta(a=wA/wB, b=1)\n",
    "\n",
    "ax = axes[0]\n",
    "ax.hist(wA/wB, bins=np.logspace(-6, 6, 1000))\n",
    "ax.set_xlim(1e-4, 1e4)\n",
    "ax.set_xscale('log')\n",
    "ax.set_xlabel('Fitness ratio, $w_A/w_B$')\n",
    "ax.set_ylabel(r'Frequency')\n",
    "ax.set_yticks([])\n",
    "\n",
    "ax = axes[1]\n",
    "ax.hist(s, bins=np.linspace(s.min(), 5, 100))\n",
    "ax.set(xlabel='Selection coefficient, $s_t$')#, ylabel='Frequency',)\n",
    "ax.set_yticks([])\n",
    "\n",
    "ax = axes[2]\n",
    "ax.hist(ρ, normed=True, bins=100)\n",
    "ax.set_xlabel(r'Vertical transmission rate, $\\rho_t$')\n",
    "# ax.set_ylabel(r'Frequency')\n",
    "ax.set_xlim(0, 1)\n",
    "ax.set_ylim(0, 5)\n",
    "ax.set_yticks([])\n",
    "# ax.set_yscale('log')\n",
    "\n",
    "ax=axes[3]\n",
    "ax.scatter(ρ, s, alpha=0.0075, marker='.')\n",
    "# sns.regplot(ρ, s, ci=False, scatter_kws=dict(alpha=0.001, marker=','), line_kws=dict(color='k', ls='--'), ax=ax)\n",
    "ax.set(ylabel='Selection coefficient, $s_t$', ylim=(-1,5), xlim=(0,1), xlabel=r'Vertical transmission rate, $\\rho_t$');\n",
    "\n",
    "# fig_xlabel(fig, r'Vertical transmission rate, $\\rho_t$')\n",
    "fig_panel_labels(axes, xcoord=0.025, ycoord=1.05)\n",
    "fig.tight_layout()\n",
    "sns.despine()\n",
    "fig.savefig('../figures/beta.pdf')\n",
    "fig.savefig('../figures/beta.png')"
   ]
  },
  {
   "cell_type": "code",
   "execution_count": 4,
   "metadata": {},
   "outputs": [
    {
     "data": {
      "image/png": "[encoded data removed]",
      "text/latex": [
       "$$4.02198957869$$"
      ],
      "text/plain": [
       "4.02198957869"
      ]
     },
     "execution_count": 4,
     "metadata": {},
     "output_type": "execute_result"
    }
   ],
   "source": [
    "wA = np.random.uniform(0, 1, size=100000000)\n",
    "wB = np.random.uniform(0, 1, size=100000000)\n",
    "s = wA/wB - 1\n",
    "ρ = np.random.beta(a=wA/wB, b=1)\n",
    "np.cov(s, ρ)[0,1]"
   ]
  },
  {
   "cell_type": "code",
   "execution_count": 5,
   "metadata": {},
   "outputs": [
    {
     "data": {
      "image/png": "[encoded data removed]",
      "text/latex": [
       "$$-4.3072022771$$"
      ],
      "text/plain": [
       "-4.3072022771"
      ]
     },
     "execution_count": 5,
     "metadata": {},
     "output_type": "execute_result"
    }
   ],
   "source": [
    "wA = np.random.uniform(0, 1, size=100000000)\n",
    "wB = np.random.uniform(0, 1, size=100000000)\n",
    "s = wA/wB - 1\n",
    "ρ = np.random.beta(a=1, b=wA/wB)\n",
    "np.cov(s, ρ)[0,1]"
   ]
  },
  {
   "cell_type": "code",
   "execution_count": 6,
   "metadata": {},
   "outputs": [],
   "source": [
    "def f1(s, ρ1, ρ2, p):\n",
    "    return p*np.log(1+s*ρ1)  + (1-p)*np.log(1-s*ρ2)\n",
    "\n",
    "def f2(s, ρ1, ρ2, p):\n",
    "    return p*np.log(1-s*ρ1/(1+s)) + (1-p)*np.log(1+s*ρ2/(1-s))"
   ]
  },
  {
   "cell_type": "code",
   "execution_count": 7,
   "metadata": {},
   "outputs": [],
   "source": [
    "s = 0.05\n",
    "p = 0.505\n",
    "ρ1s = np.linspace(0, 1, 500)\n",
    "ρ2s = np.linspace(0, 1, 500)\n",
    "fix = np.array([\n",
    "    [\n",
    "        int(f1(s, ρ1, ρ2, p)>0) - int(f2(s, ρ1, ρ2, p)>0)\n",
    "        for ρ2 in ρ2s\n",
    "    ]\n",
    "    for ρ1 in ρ1s\n",
    "])"
   ]
  },
  {
   "cell_type": "code",
   "execution_count": 8,
   "metadata": {},
   "outputs": [
    {
     "data": {
      "image/png": "[encoded data removed]",
      "text/plain": [
       "<matplotlib.figure.Figure at 0x117557710>"
      ]
     },
     "metadata": {},
     "output_type": "display_data"
    }
   ],
   "source": [
    "fig, ax = plt.subplots(figsize=(6, 6))\n",
    "ax.pcolormesh(ρ2s, ρ1s, fix, cmap='RdBu', edgecolors='face', rasterized=True)\n",
    "ax.set(\n",
    "    xlabel=(r'$\\rho_1$'),\n",
    "    ylabel=(r'$\\rho_2$')\n",
    ")\n",
    "ax.text(0.1, 0.9, '$B$ fixation', color='w')\n",
    "ax.text(0.75, 0.1, '$A$ fixation', color='w')\n",
    "ax.annotate('Polymorphism', (0.5, 0.5), (0.6, 0.4), \n",
    "             arrowprops=dict(width=1, color='w'), color='w');\n",
    "fig.savefig('../figures/rho1_rho2_stoch_p.pdf')"
   ]
  },
  {
   "cell_type": "markdown",
   "metadata": {},
   "source": [
    "# k != l"
   ]
  },
  {
   "cell_type": "code",
   "execution_count": 13,
   "metadata": {},
   "outputs": [],
   "source": [
    "x, ρ, r, s, ϵ = sm.symbols('x ρ r s ϵ')\n",
    "k, l = sm.symbols('k l', integer=True)"
   ]
  },
  {
   "cell_type": "code",
   "execution_count": 9,
   "metadata": {},
   "outputs": [
    {
     "data": {
      "image/png": "[encoded data removed]",
      "text/latex": [
       "$$\\frac{\\log{\\left (s ρ + 1 \\right )}}{\\log{\\left (- \\frac{s \\left(ρ + ϵ\\right)}{s + 1} + 1 \\right )}}$$"
      ],
      "text/plain": [
       "    log(s⋅ρ + 1)    \n",
       "────────────────────\n",
       "   ⎛  s⋅(ρ + ϵ)    ⎞\n",
       "log⎜- ───────── + 1⎟\n",
       "   ⎝    s + 1      ⎠"
      ]
     },
     "execution_count": 9,
     "metadata": {},
     "output_type": "execute_result"
    }
   ],
   "source": [
    "rhs = sm.log(1+ρ*s)/sm.log(1-r*s/(1+s))\n",
    "rhs = rhs.subs({r:ρ+ϵ})\n",
    "rhs"
   ]
  },
  {
   "cell_type": "code",
   "execution_count": null,
   "metadata": {},
   "outputs": [],
   "source": [
    "a = (1+ρ*s)\n",
    "b = (1-(ρ+ϵ)*s/(1+s))"
   ]
  },
  {
   "cell_type": "code",
   "execution_count": 18,
   "metadata": {},
   "outputs": [
    {
     "data": {
      "image/png": "[encoded data removed]",
      "text/latex": [
       "$$- \\frac{l s \\left(s ρ + 1\\right)^{k} \\left(- \\frac{s \\left(ρ + ϵ\\right)}{s + 1} + 1\\right)^{l}}{\\left(s + 1\\right) \\left(- \\frac{s \\left(ρ + ϵ\\right)}{s + 1} + 1\\right)}$$"
      ],
      "text/plain": [
       "                                 l \n",
       "              k ⎛  s⋅(ρ + ϵ)    ⎞  \n",
       "-l⋅s⋅(s⋅ρ + 1) ⋅⎜- ───────── + 1⎟  \n",
       "                ⎝    s + 1      ⎠  \n",
       "───────────────────────────────────\n",
       "             ⎛  s⋅(ρ + ϵ)    ⎞     \n",
       "     (s + 1)⋅⎜- ───────── + 1⎟     \n",
       "             ⎝    s + 1      ⎠     "
      ]
     },
     "execution_count": 18,
     "metadata": {},
     "output_type": "execute_result"
    }
   ],
   "source": [
    "sm.diff(\n",
    "    a**k * b**l,\n",
    "    ϵ\n",
    ")"
   ]
  },
  {
   "cell_type": "code",
   "execution_count": 19,
   "metadata": {},
   "outputs": [
    {
     "data": {
      "image/png": "[encoded data removed]",
      "text/latex": [
       "$$- \\frac{k s \\left(s ρ + 1\\right)^{l} \\left(- \\frac{s \\left(ρ + ϵ\\right)}{s + 1} + 1\\right)^{k}}{\\left(s + 1\\right) \\left(- \\frac{s \\left(ρ + ϵ\\right)}{s + 1} + 1\\right)}$$"
      ],
      "text/plain": [
       "                                 k \n",
       "              l ⎛  s⋅(ρ + ϵ)    ⎞  \n",
       "-k⋅s⋅(s⋅ρ + 1) ⋅⎜- ───────── + 1⎟  \n",
       "                ⎝    s + 1      ⎠  \n",
       "───────────────────────────────────\n",
       "             ⎛  s⋅(ρ + ϵ)    ⎞     \n",
       "     (s + 1)⋅⎜- ───────── + 1⎟     \n",
       "             ⎝    s + 1      ⎠     "
      ]
     },
     "execution_count": 19,
     "metadata": {},
     "output_type": "execute_result"
    }
   ],
   "source": [
    "sm.diff(\n",
    "    a**l * b**k,\n",
    "    ϵ\n",
    ")"
   ]
  },
  {
   "cell_type": "code",
   "execution_count": 35,
   "metadata": {},
   "outputs": [
    {
     "data": {
      "image/png": "[encoded data removed]",
      "text/latex": [
       "$$\\left ( 0.716078670360111, \\quad 0.962986315789474\\right )$$"
      ],
      "text/plain": [
       "(0.716078670360111, 0.962986315789474)"
      ]
     },
     "execution_count": 35,
     "metadata": {},
     "output_type": "execute_result"
    }
   ],
   "source": [
    "subs = {s:0.9, k:1, l:2, ρ:0.1, ϵ:0.3}\n",
    "(a**k * b**l).subs(subs), (a**l * b**k).subs(subs)"
   ]
  },
  {
   "cell_type": "code",
   "execution_count": 39,
   "metadata": {},
   "outputs": [
    {
     "data": {
      "image/png": "[encoded data removed]",
      "text/latex": [
       "$$\\frac{s ρ}{\\left(s x + 1\\right)^{2}} - ρ + \\frac{ρ}{\\left(s x + 1\\right)^{2}} + 1$$"
      ],
      "text/plain": [
       "   s⋅ρ               ρ         \n",
       "────────── - ρ + ────────── + 1\n",
       "         2                2    \n",
       "(s⋅x + 1)        (s⋅x + 1)     "
      ]
     },
     "execution_count": 39,
     "metadata": {},
     "output_type": "execute_result"
    }
   ],
   "source": [
    "FA = x*(1+s)/(1+s*x)*ρ + x*(1-ρ)\n",
    "fA = sm.simplify(sm.diff(FA, x))\n",
    "fA"
   ]
  },
  {
   "cell_type": "code",
   "execution_count": 40,
   "metadata": {},
   "outputs": [
    {
     "data": {
      "image/png": "[encoded data removed]",
      "text/latex": [
       "$$s ρ + 1$$"
      ],
      "text/plain": [
       "s⋅ρ + 1"
      ]
     },
     "execution_count": 40,
     "metadata": {},
     "output_type": "execute_result"
    }
   ],
   "source": [
    "fA.subs({x:0})"
   ]
  },
  {
   "cell_type": "code",
   "execution_count": 42,
   "metadata": {},
   "outputs": [
    {
     "data": {
      "image/png": "[encoded data removed]",
      "text/latex": [
       "$$\\frac{1}{s + 1} \\left(- s ρ + s + 1\\right)$$"
      ],
      "text/plain": [
       "-s⋅ρ + s + 1\n",
       "────────────\n",
       "   s + 1    "
      ]
     },
     "execution_count": 42,
     "metadata": {},
     "output_type": "execute_result"
    }
   ],
   "source": [
    "sm.simplify(fA.subs({x:1}))"
   ]
  },
  {
   "cell_type": "code",
   "execution_count": 43,
   "metadata": {},
   "outputs": [
    {
     "data": {
      "image/png": "[encoded data removed]",
      "text/latex": [
       "$$\\frac{s ρ}{\\left(- s x + s + 1\\right)^{2}} - ρ + \\frac{ρ}{\\left(- s x + s + 1\\right)^{2}} + 1$$"
      ],
      "text/plain": [
       "      s⋅ρ                    ρ           \n",
       "─────────────── - ρ + ─────────────── + 1\n",
       "              2                     2    \n",
       "(-s⋅x + s + 1)        (-s⋅x + s + 1)     "
      ]
     },
     "execution_count": 43,
     "metadata": {},
     "output_type": "execute_result"
    }
   ],
   "source": [
    "FB = x/(1+s-s*x)*ρ + x*(1-ρ)\n",
    "fB = sm.simplify(sm.diff(FB, x))\n",
    "fB"
   ]
  },
  {
   "cell_type": "code",
   "execution_count": 46,
   "metadata": {},
   "outputs": [
    {
     "data": {
      "image/png": "[encoded data removed]",
      "text/latex": [
       "$$\\frac{1}{s + 1} \\left(- s ρ + s + 1\\right)$$"
      ],
      "text/plain": [
       "-s⋅ρ + s + 1\n",
       "────────────\n",
       "   s + 1    "
      ]
     },
     "execution_count": 46,
     "metadata": {},
     "output_type": "execute_result"
    }
   ],
   "source": [
    "sm.simplify(fB.subs({x:0}))"
   ]
  },
  {
   "cell_type": "code",
   "execution_count": 45,
   "metadata": {},
   "outputs": [
    {
     "data": {
      "image/png": "[encoded data removed]",
      "text/latex": [
       "$$s ρ + 1$$"
      ],
      "text/plain": [
       "s⋅ρ + 1"
      ]
     },
     "execution_count": 45,
     "metadata": {},
     "output_type": "execute_result"
    }
   ],
   "source": [
    "fB.subs({x:1})"
   ]
  },
  {
   "cell_type": "code",
   "execution_count": null,
   "metadata": {},
   "outputs": [],
   "source": []
  }
 ],
 "metadata": {
  "kernelspec": {
   "display_name": "Python [conda env:scipy]",
   "language": "python",
   "name": "conda-env-scipy-py"
  },
  "language_info": {
   "codemirror_mode": {
    "name": "ipython",
    "version": 3
   },
   "file_extension": ".py",
   "mimetype": "text/x-python",
   "name": "python",
   "nbconvert_exporter": "python",
   "pygments_lexer": "ipython3",
   "version": "3.6.3"
  }
 },
 "nbformat": 4,
 "nbformat_minor": 2
}
