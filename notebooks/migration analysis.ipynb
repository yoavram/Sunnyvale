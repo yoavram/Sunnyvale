{
 "cells": [
  {
   "cell_type": "code",
   "execution_count": 1,
   "metadata": {},
   "outputs": [],
   "source": [
    "%matplotlib inline\n",
    "import matplotlib.pyplot as plt\n",
    "import numpy as np\n",
    "from sympy import *\n",
    "init_printing()"
   ]
  },
  {
   "cell_type": "code",
   "execution_count": 2,
   "metadata": {},
   "outputs": [],
   "source": [
    "x1, x2, ρ, ρ1, ρ2, m, m1, m2, w, w1, w2, W1, W2 = symbols('x1 x2 ρ ρ1 ρ2 m m1 m2 w w1 w2 W1 W2') "
   ]
  },
  {
   "cell_type": "markdown",
   "metadata": {},
   "source": [
    "# Oblique"
   ]
  },
  {
   "cell_type": "code",
   "execution_count": 135,
   "metadata": {},
   "outputs": [
    {
     "data": {
      "image/png": "[encoded data removed]",
      "text/latex": [
       "$$\\left [ m x_{2} + x_{1} \\left(- m + 1\\right) - x_{1}, \\quad m x_{1} + x_{2} \\left(- m + 1\\right) - x_{2}\\right ]$$"
      ],
      "text/plain": [
       "[m⋅x₂ + x₁⋅(-m + 1) - x₁, m⋅x₁ + x₂⋅(-m + 1) - x₂]"
      ]
     },
     "execution_count": 135,
     "metadata": {},
     "output_type": "execute_result"
    }
   ],
   "source": [
    "w1 = w\n",
    "w2 = 1/w\n",
    "W1 = w1*x1 + 1-x1\n",
    "W2 = w2*x2 + 1-x2\n",
    "m1 = m\n",
    "m2 = m\n",
    "ρ1 = 0\n",
    "ρ2 = 0\n",
    "eqs = [\n",
    "    (1-m1)*x1*(w1/W1*ρ1+1-ρ1) + m2*x2*(w2/W2*ρ2+1-ρ2) - x1,\n",
    "    (1-m2)*x2*(w2/W2*ρ2+1-ρ2) + m1*x1*(w1/W1*ρ1+1-ρ1) - x2\n",
    "]\n",
    "eqs"
   ]
  },
  {
   "cell_type": "code",
   "execution_count": 136,
   "metadata": {},
   "outputs": [
    {
     "data": {
      "image/png": "[encoded data removed]",
      "text/latex": [
       "$$\\left \\{ x_{1} : x_{2}\\right \\}$$"
      ],
      "text/plain": [
       "{x₁: x₂}"
      ]
     },
     "execution_count": 136,
     "metadata": {},
     "output_type": "execute_result"
    }
   ],
   "source": [
    "sol = solve(eqs, (x1, x2))\n",
    "sol"
   ]
  },
  {
   "cell_type": "markdown",
   "metadata": {},
   "source": [
    "# Vertical"
   ]
  },
  {
   "cell_type": "code",
   "execution_count": 23,
   "metadata": {},
   "outputs": [
    {
     "data": {
      "image/png": "[encoded data removed]",
      "text/latex": [
       "$$\\left [ \\frac{m x_{2}}{w \\left(- x_{2} + 1 + \\frac{x_{2}}{w}\\right)} + \\frac{w x_{1} \\left(- m + 1\\right)}{w x_{1} - x_{1} + 1} - x_{1}, \\quad \\frac{m w x_{1}}{w x_{1} - x_{1} + 1} - x_{2} + \\frac{x_{2} \\left(- m + 1\\right)}{w \\left(- x_{2} + 1 + \\frac{x_{2}}{w}\\right)}\\right ]$$"
      ],
      "text/plain": [
       "⎡      m⋅x₂         w⋅x₁⋅(-m + 1)           m⋅w⋅x₁             x₂⋅(-m + 1)   ⎤\n",
       "⎢──────────────── + ───────────── - x₁, ───────────── - x₂ + ────────────────⎥\n",
       "⎢  ⎛          x₂⎞   w⋅x₁ - x₁ + 1       w⋅x₁ - x₁ + 1          ⎛          x₂⎞⎥\n",
       "⎢w⋅⎜-x₂ + 1 + ──⎟                                            w⋅⎜-x₂ + 1 + ──⎟⎥\n",
       "⎣  ⎝          w ⎠                                              ⎝          w ⎠⎦"
      ]
     },
     "execution_count": 23,
     "metadata": {},
     "output_type": "execute_result"
    }
   ],
   "source": [
    "w1 = w\n",
    "w2 = 1/w\n",
    "W1 = w1*x1 + 1-x1\n",
    "W2 = w2*x2 + 1-x2\n",
    "m1 = m\n",
    "m2 = m\n",
    "ρ1 = 1\n",
    "ρ2 = 1\n",
    "eqs = [\n",
    "    (1-m1)*x1*(w1/W1*ρ1+1-ρ1) + m2*x2*(w2/W2*ρ2+1-ρ2) - x1,\n",
    "    (1-m2)*x2*(w2/W2*ρ2+1-ρ2) + m1*x1*(w1/W1*ρ1+1-ρ1) - x2\n",
    "]\n",
    "eqs"
   ]
  },
  {
   "cell_type": "code",
   "execution_count": 24,
   "metadata": {},
   "outputs": [
    {
     "data": {
      "image/png": "[encoded data removed]",
      "text/latex": [
       "$$\\left [ \\left ( 0, \\quad 0\\right ), \\quad \\left ( 1, \\quad 1\\right ), \\quad \\left ( \\frac{1}{2 \\left(w - 1\\right)} \\left(- m w - m + w - \\sqrt{m^{2} w^{2} + 2 m^{2} w + m^{2} - 2 m w^{2} + 4 m w - 2 m + w^{2} - 2 w + 1} - 1\\right), \\quad \\frac{1}{2 \\left(w - 1\\right)} \\left(m w + m + w + \\sqrt{m^{2} w^{2} + 2 m^{2} w + m^{2} - 2 m w^{2} + 4 m w - 2 m + w^{2} - 2 w + 1} - 1\\right)\\right ), \\quad \\left ( \\frac{1}{2 \\left(w - 1\\right)} \\left(- m w - m + w + \\sqrt{m^{2} w^{2} + 2 m^{2} w + m^{2} - 2 m w^{2} + 4 m w - 2 m + w^{2} - 2 w + 1} - 1\\right), \\quad \\frac{1}{2 \\left(w - 1\\right)} \\left(m w + m + w - \\sqrt{m^{2} w^{2} + 2 m^{2} w + m^{2} - 2 m w^{2} + 4 m w - 2 m + w^{2} - 2 w + 1} - 1\\right)\\right )\\right ]$$"
      ],
      "text/plain": [
       "⎡                ⎛                  __________________________________________\n",
       "⎢                ⎜                 ╱  2  2      2      2        2             \n",
       "⎢                ⎜-m⋅w - m + w - ╲╱  m ⋅w  + 2⋅m ⋅w + m  - 2⋅m⋅w  + 4⋅m⋅w - 2⋅\n",
       "⎢(0, 0), (1, 1), ⎜────────────────────────────────────────────────────────────\n",
       "⎣                ⎝                                    2⋅(w - 1)               \n",
       "\n",
       "_________________                       ______________________________________\n",
       "     2                                 ╱  2  2      2      2        2         \n",
       "m + w  - 2⋅w + 1  - 1  m⋅w + m + w + ╲╱  m ⋅w  + 2⋅m ⋅w + m  - 2⋅m⋅w  + 4⋅m⋅w \n",
       "─────────────────────, ───────────────────────────────────────────────────────\n",
       "                                                          2⋅(w - 1)           \n",
       "\n",
       "_____________________    ⎞  ⎛                  _______________________________\n",
       "         2               ⎟  ⎜                 ╱  2  2      2      2        2  \n",
       "- 2⋅m + w  - 2⋅w + 1  - 1⎟  ⎜-m⋅w - m + w + ╲╱  m ⋅w  + 2⋅m ⋅w + m  - 2⋅m⋅w  +\n",
       "─────────────────────────⎟, ⎜─────────────────────────────────────────────────\n",
       "                         ⎠  ⎝                                    2⋅(w - 1)    \n",
       "\n",
       "____________________________                       ___________________________\n",
       "                2                                 ╱  2  2      2      2       \n",
       " 4⋅m⋅w - 2⋅m + w  - 2⋅w + 1  - 1  m⋅w + m + w - ╲╱  m ⋅w  + 2⋅m ⋅w + m  - 2⋅m⋅\n",
       "────────────────────────────────, ────────────────────────────────────────────\n",
       "                                                                     2⋅(w - 1)\n",
       "\n",
       "________________________________    ⎞⎤\n",
       " 2                  2               ⎟⎥\n",
       "w  + 4⋅m⋅w - 2⋅m + w  - 2⋅w + 1  - 1⎟⎥\n",
       "────────────────────────────────────⎟⎥\n",
       "                                    ⎠⎦"
      ]
     },
     "execution_count": 24,
     "metadata": {},
     "output_type": "execute_result"
    }
   ],
   "source": [
    "sol = solve(eqs, (x1, x2))\n",
    "sol"
   ]
  },
  {
   "cell_type": "code",
   "execution_count": 25,
   "metadata": {},
   "outputs": [
    {
     "data": {
      "image/png": "[encoded data removed]",
      "text/latex": [
       "$$0$$"
      ],
      "text/plain": [
       "0"
      ]
     },
     "execution_count": 25,
     "metadata": {},
     "output_type": "execute_result"
    }
   ],
   "source": [
    "simplify(\n",
    "    (-(sol[2][0]*2*(w-1)+m*w+m-w+1))**2 - (m**2*(w+1)**2 + (w-1)**2*(1-2*m))\n",
    ")"
   ]
  },
  {
   "cell_type": "code",
   "execution_count": 26,
   "metadata": {},
   "outputs": [
    {
     "data": {
      "image/png": "[encoded data removed]",
      "text/latex": [
       "$$\\left[\\begin{matrix}w \\left(- m + 1\\right) & \\frac{m}{w}\\\\m w & \\frac{1}{w} \\left(- m + 1\\right)\\end{matrix}\\right]$$"
      ],
      "text/plain": [
       "⎡              m   ⎤\n",
       "⎢w⋅(-m + 1)    ─   ⎥\n",
       "⎢              w   ⎥\n",
       "⎢                  ⎥\n",
       "⎢            -m + 1⎥\n",
       "⎢   m⋅w      ──────⎥\n",
       "⎣              w   ⎦"
      ]
     },
     "execution_count": 26,
     "metadata": {},
     "output_type": "execute_result"
    }
   ],
   "source": [
    "J00 = Matrix([\n",
    "    [\n",
    "        (x1+eqs[0]).diff(x1), (x1+eqs[0]).diff(x2)\n",
    "    ],\n",
    "    [\n",
    "        (x2+eqs[1]).diff(x1), (x2+eqs[1]).diff(x2)\n",
    "    ]\n",
    "]).subs({x1:0, x2:0})\n",
    "J00"
   ]
  },
  {
   "cell_type": "code",
   "execution_count": 27,
   "metadata": {},
   "outputs": [
    {
     "data": {
      "image/png": "[encoded data removed]",
      "text/latex": [
       "$$\\left \\{ - \\frac{1}{2 w} \\left(m - 1\\right) \\left(w^{2} + 1\\right) - \\frac{1}{2 w} \\sqrt{m^{2} w^{4} + 2 m^{2} w^{2} + m^{2} - 2 m w^{4} + 4 m w^{2} - 2 m + w^{4} - 2 w^{2} + 1} : 1, \\quad - \\frac{1}{2 w} \\left(m - 1\\right) \\left(w^{2} + 1\\right) + \\frac{1}{2 w} \\sqrt{m^{2} w^{4} + 2 m^{2} w^{2} + m^{2} - 2 m w^{4} + 4 m w^{2} - 2 m + w^{4} - 2 w^{2} + 1} : 1\\right \\}$$"
      ],
      "text/plain": [
       "⎧                        _____________________________________________________\n",
       "⎪          ⎛ 2    ⎞     ╱  2  4      2  2    2        4        2          4   \n",
       "⎨  (m - 1)⋅⎝w  + 1⎠   ╲╱  m ⋅w  + 2⋅m ⋅w  + m  - 2⋅m⋅w  + 4⋅m⋅w  - 2⋅m + w  - \n",
       "⎪- ──────────────── - ────────────────────────────────────────────────────────\n",
       "⎩        2⋅w                                         2⋅w                      \n",
       "\n",
       "_________                             ________________________________________\n",
       "   2                    ⎛ 2    ⎞     ╱  2  4      2  2    2        4        2 \n",
       "2⋅w  + 1        (m - 1)⋅⎝w  + 1⎠   ╲╱  m ⋅w  + 2⋅m ⋅w  + m  - 2⋅m⋅w  + 4⋅m⋅w  \n",
       "─────────: 1, - ──────────────── + ───────────────────────────────────────────\n",
       "                      2⋅w                                         2⋅w         \n",
       "\n",
       "______________________   ⎫\n",
       "         4      2        ⎪\n",
       "- 2⋅m + w  - 2⋅w  + 1    ⎬\n",
       "──────────────────────: 1⎪\n",
       "                         ⎭"
      ]
     },
     "execution_count": 27,
     "metadata": {},
     "output_type": "execute_result"
    }
   ],
   "source": [
    "eigs00 = J00.eigenvals()\n",
    "eigs00"
   ]
  },
  {
   "cell_type": "code",
   "execution_count": 8,
   "metadata": {},
   "outputs": [
    {
     "data": {
      "image/png": "[encoded data removed]",
      "text/latex": [
       "$$\\left[\\begin{matrix}- m + 1 + \\frac{1}{w} \\left(- m + 1\\right) \\left(- w + 1\\right) & m w \\left(1 - \\frac{1}{w}\\right) + m\\\\m + \\frac{m}{w} \\left(- w + 1\\right) & - m + w \\left(1 - \\frac{1}{w}\\right) \\left(- m + 1\\right) + 1\\end{matrix}\\right]$$"
      ],
      "text/plain": [
       "⎡         (-m + 1)⋅(-w + 1)            ⎛    1⎞          ⎤\n",
       "⎢-m + 1 + ─────────────────        m⋅w⋅⎜1 - ─⎟ + m      ⎥\n",
       "⎢                 w                    ⎝    w⎠          ⎥\n",
       "⎢                                                       ⎥\n",
       "⎢          m⋅(-w + 1)               ⎛    1⎞             ⎥\n",
       "⎢      m + ──────────        -m + w⋅⎜1 - ─⎟⋅(-m + 1) + 1⎥\n",
       "⎣              w                    ⎝    w⎠             ⎦"
      ]
     },
     "execution_count": 8,
     "metadata": {},
     "output_type": "execute_result"
    }
   ],
   "source": [
    "J11 = Matrix([\n",
    "    [\n",
    "        (x1+eqs[0]).diff(x1), (x1+eqs[0]).diff(x2)\n",
    "    ],\n",
    "    [\n",
    "        (x2+eqs[1]).diff(x1), (x2+eqs[1]).diff(x2)\n",
    "    ]\n",
    "]).subs({x1:1, x2:1})\n",
    "J11"
   ]
  },
  {
   "cell_type": "code",
   "execution_count": 9,
   "metadata": {},
   "outputs": [
    {
     "data": {
      "image/png": "[encoded data removed]",
      "text/latex": [
       "$$\\left \\{ - \\frac{1}{2 w} \\left(m - 1\\right) \\left(w^{2} + 1\\right) - \\frac{1}{2 w} \\sqrt{m^{2} w^{4} + 2 m^{2} w^{2} + m^{2} - 2 m w^{4} + 4 m w^{2} - 2 m + w^{4} - 2 w^{2} + 1} : 1, \\quad - \\frac{1}{2 w} \\left(m - 1\\right) \\left(w^{2} + 1\\right) + \\frac{1}{2 w} \\sqrt{m^{2} w^{4} + 2 m^{2} w^{2} + m^{2} - 2 m w^{4} + 4 m w^{2} - 2 m + w^{4} - 2 w^{2} + 1} : 1\\right \\}$$"
      ],
      "text/plain": [
       "⎧                        _____________________________________________________\n",
       "⎪          ⎛ 2    ⎞     ╱  2  4      2  2    2        4        2          4   \n",
       "⎨  (m - 1)⋅⎝w  + 1⎠   ╲╱  m ⋅w  + 2⋅m ⋅w  + m  - 2⋅m⋅w  + 4⋅m⋅w  - 2⋅m + w  - \n",
       "⎪- ──────────────── - ────────────────────────────────────────────────────────\n",
       "⎩        2⋅w                                         2⋅w                      \n",
       "\n",
       "_________                             ________________________________________\n",
       "   2                    ⎛ 2    ⎞     ╱  2  4      2  2    2        4        2 \n",
       "2⋅w  + 1        (m - 1)⋅⎝w  + 1⎠   ╲╱  m ⋅w  + 2⋅m ⋅w  + m  - 2⋅m⋅w  + 4⋅m⋅w  \n",
       "─────────: 1, - ──────────────── + ───────────────────────────────────────────\n",
       "                      2⋅w                                         2⋅w         \n",
       "\n",
       "______________________   ⎫\n",
       "         4      2        ⎪\n",
       "- 2⋅m + w  - 2⋅w  + 1    ⎬\n",
       "──────────────────────: 1⎪\n",
       "                         ⎭"
      ]
     },
     "execution_count": 9,
     "metadata": {},
     "output_type": "execute_result"
    }
   ],
   "source": [
    "eigs11 = J11.eigenvals()\n",
    "eigs11 "
   ]
  },
  {
   "cell_type": "code",
   "execution_count": 10,
   "metadata": {},
   "outputs": [
    {
     "data": {
      "text/plain": [
       "True"
      ]
     },
     "execution_count": 10,
     "metadata": {},
     "output_type": "execute_result"
    }
   ],
   "source": [
    "eigs11 == eigs00"
   ]
  },
  {
   "cell_type": "code",
   "execution_count": 28,
   "metadata": {},
   "outputs": [
    {
     "data": {
      "image/png": "[encoded data removed]",
      "text/latex": [
       "$$\\left ( 1, \\quad \\frac{1}{w} \\left(m w^{2} + m - w^{2} - 1\\right), \\quad - 2 m + 1\\right )$$"
      ],
      "text/plain": [
       "⎛      2        2              ⎞\n",
       "⎜   m⋅w  + m - w  - 1          ⎟\n",
       "⎜1, ─────────────────, -2⋅m + 1⎟\n",
       "⎝           w                  ⎠"
      ]
     },
     "execution_count": 28,
     "metadata": {},
     "output_type": "execute_result"
    }
   ],
   "source": [
    "poly = J00.charpoly()\n",
    "a, b, c = poly.coeffs()\n",
    "a, b, c"
   ]
  },
  {
   "cell_type": "code",
   "execution_count": 29,
   "metadata": {},
   "outputs": [
    {
     "data": {
      "image/png": "[encoded data removed]",
      "text/latex": [
       "$$0$$"
      ],
      "text/plain": [
       "0"
      ]
     },
     "execution_count": 29,
     "metadata": {},
     "output_type": "execute_result"
    }
   ],
   "source": [
    "b_ = -(1-m)*(w**2+1)/w\n",
    "simplify(b - b_)"
   ]
  },
  {
   "cell_type": "code",
   "execution_count": 30,
   "metadata": {},
   "outputs": [
    {
     "data": {
      "image/png": "[encoded data removed]",
      "text/latex": [
       "$$0$$"
      ],
      "text/plain": [
       "0"
      ]
     },
     "execution_count": 30,
     "metadata": {},
     "output_type": "execute_result"
    }
   ],
   "source": [
    "c_ = 1-2*m\n",
    "simplify(c - c_)"
   ]
  },
  {
   "cell_type": "code",
   "execution_count": 31,
   "metadata": {},
   "outputs": [
    {
     "data": {
      "image/png": "[encoded data removed]",
      "text/latex": [
       "$$0$$"
      ],
      "text/plain": [
       "0"
      ]
     },
     "execution_count": 31,
     "metadata": {},
     "output_type": "execute_result"
    }
   ],
   "source": [
    "abc = -(1-m)*(w-1)**2/w\n",
    "simplify(a+b+c - abc)"
   ]
  },
  {
   "cell_type": "code",
   "execution_count": 46,
   "metadata": {},
   "outputs": [
    {
     "name": "stdout",
     "output_type": "stream",
     "text": [
      "\\frac{1}{w^{2}} \\left(m^{2} \\left(w^{4} + 2 w^{2} + 1\\right) - 2 m \\left(w^{4} - 2 w^{2} + 1\\right) + w^{4} - 2 w^{2} + 1\\right)\n"
     ]
    }
   ],
   "source": [
    "print(latex(simplify((b_**2 - 4*c_).factor(m))))"
   ]
  },
  {
   "cell_type": "code",
   "execution_count": 24,
   "metadata": {},
   "outputs": [
    {
     "data": {
      "image/png": "[encoded data removed]",
      "text/latex": [
       "$$\\left[\\begin{matrix}\\frac{w x_{1} \\left(- m + 1\\right) \\left(- w + 1\\right)}{\\left(w x_{1} - x_{1} + 1\\right)^{2}} + \\frac{w \\left(- m + 1\\right)}{w x_{1} - x_{1} + 1} & \\frac{m x_{2} \\left(1 - \\frac{1}{w}\\right)}{w \\left(- x_{2} + 1 + \\frac{x_{2}}{w}\\right)^{2}} + \\frac{m}{w \\left(- x_{2} + 1 + \\frac{x_{2}}{w}\\right)}\\\\\\frac{m w x_{1} \\left(- w + 1\\right)}{\\left(w x_{1} - x_{1} + 1\\right)^{2}} + \\frac{m w}{w x_{1} - x_{1} + 1} & \\frac{x_{2} \\left(1 - \\frac{1}{w}\\right) \\left(- m + 1\\right)}{w \\left(- x_{2} + 1 + \\frac{x_{2}}{w}\\right)^{2}} + \\frac{- m + 1}{w \\left(- x_{2} + 1 + \\frac{x_{2}}{w}\\right)}\\end{matrix}\\right]$$"
      ],
      "text/plain": [
       "⎡                                                 ⎛    1⎞                     \n",
       "⎢                                            m⋅x₂⋅⎜1 - ─⎟                     \n",
       "⎢w⋅x₁⋅(-m + 1)⋅(-w + 1)     w⋅(-m + 1)            ⎝    w⎠            m        \n",
       "⎢────────────────────── + ─────────────   ───────────────── + ────────────────\n",
       "⎢                  2      w⋅x₁ - x₁ + 1                   2     ⎛          x₂⎞\n",
       "⎢   (w⋅x₁ - x₁ + 1)                         ⎛          x₂⎞    w⋅⎜-x₂ + 1 + ──⎟\n",
       "⎢                                         w⋅⎜-x₂ + 1 + ──⎟      ⎝          w ⎠\n",
       "⎢                                           ⎝          w ⎠                    \n",
       "⎢                                                                             \n",
       "⎢                                           ⎛    1⎞                           \n",
       "⎢                                        x₂⋅⎜1 - ─⎟⋅(-m + 1)                  \n",
       "⎢   m⋅w⋅x₁⋅(-w + 1)         m⋅w             ⎝    w⎠                 -m + 1    \n",
       "⎢   ──────────────── + ─────────────     ─────────────────── + ───────────────\n",
       "⎢                  2   w⋅x₁ - x₁ + 1                      2      ⎛          x₂\n",
       "⎢   (w⋅x₁ - x₁ + 1)                         ⎛          x₂⎞     w⋅⎜-x₂ + 1 + ──\n",
       "⎢                                         w⋅⎜-x₂ + 1 + ──⎟       ⎝          w \n",
       "⎣                                           ⎝          w ⎠                    \n",
       "\n",
       " ⎤\n",
       " ⎥\n",
       " ⎥\n",
       " ⎥\n",
       " ⎥\n",
       " ⎥\n",
       " ⎥\n",
       " ⎥\n",
       " ⎥\n",
       " ⎥\n",
       " ⎥\n",
       " ⎥\n",
       "─⎥\n",
       "⎞⎥\n",
       "⎟⎥\n",
       "⎠⎥\n",
       " ⎦"
      ]
     },
     "execution_count": 24,
     "metadata": {},
     "output_type": "execute_result"
    }
   ],
   "source": [
    "Jxstar = Matrix([\n",
    "    [\n",
    "        (x1+eqs[0]).diff(x1), (x1+eqs[0]).diff(x2)\n",
    "    ],\n",
    "    [\n",
    "        (x2+eqs[1]).diff(x1), (x2+eqs[1]).diff(x2)\n",
    "    ]\n",
    "])\n",
    "Jxstar"
   ]
  },
  {
   "cell_type": "markdown",
   "metadata": {},
   "source": [
    "# Vertical + Oblique"
   ]
  },
  {
   "cell_type": "code",
   "execution_count": 3,
   "metadata": {},
   "outputs": [
    {
     "data": {
      "image/png": "[encoded data removed]",
      "text/latex": [
       "$$\\left [ m x_{2} \\left(- ρ + 1 + \\frac{ρ}{w \\left(- x_{2} + 1 + \\frac{x_{2}}{w}\\right)}\\right) + \\frac{w x_{1} \\left(- m + 1\\right)}{w x_{1} - x_{1} + 1} - x_{1}, \\quad \\frac{m w x_{1}}{w x_{1} - x_{1} + 1} + x_{2} \\left(- m + 1\\right) \\left(- ρ + 1 + \\frac{ρ}{w \\left(- x_{2} + 1 + \\frac{x_{2}}{w}\\right)}\\right) - x_{2}\\right ]$$"
      ],
      "text/plain": [
       "⎡     ⎛                ρ        ⎞   w⋅x₁⋅(-m + 1)           m⋅w⋅x₁            \n",
       "⎢m⋅x₂⋅⎜-ρ + 1 + ────────────────⎟ + ───────────── - x₁, ───────────── + x₂⋅(-m\n",
       "⎢     ⎜           ⎛          x₂⎞⎟   w⋅x₁ - x₁ + 1       w⋅x₁ - x₁ + 1         \n",
       "⎢     ⎜         w⋅⎜-x₂ + 1 + ──⎟⎟                                             \n",
       "⎣     ⎝           ⎝          w ⎠⎠                                             \n",
       "\n",
       "      ⎛                ρ        ⎞     ⎤\n",
       " + 1)⋅⎜-ρ + 1 + ────────────────⎟ - x₂⎥\n",
       "      ⎜           ⎛          x₂⎞⎟     ⎥\n",
       "      ⎜         w⋅⎜-x₂ + 1 + ──⎟⎟     ⎥\n",
       "      ⎝           ⎝          w ⎠⎠     ⎦"
      ]
     },
     "execution_count": 3,
     "metadata": {},
     "output_type": "execute_result"
    }
   ],
   "source": [
    "w1 = w\n",
    "w2 = 1/w\n",
    "W1 = w1*x1 + 1-x1\n",
    "W2 = w2*x2 + 1-x2\n",
    "m1 = m\n",
    "m2 = m\n",
    "ρ1 = 1\n",
    "ρ2 = ρ\n",
    "eqs = [\n",
    "    (1-m1)*x1*(w1/W1*ρ1+1-ρ1) + m2*x2*(w2/W2*ρ2+1-ρ2) - x1,\n",
    "    (1-m2)*x2*(w2/W2*ρ2+1-ρ2) + m1*x1*(w1/W1*ρ1+1-ρ1) - x2\n",
    "]\n",
    "eqs"
   ]
  },
  {
   "cell_type": "code",
   "execution_count": 4,
   "metadata": {},
   "outputs": [
    {
     "data": {
      "image/png": "[encoded data removed]",
      "text/latex": [
       "$$\\left[\\begin{matrix}\\frac{w x_{1} \\left(- m + 1\\right) \\left(- w + 1\\right)}{\\left(w x_{1} - x_{1} + 1\\right)^{2}} + \\frac{w \\left(- m + 1\\right)}{w x_{1} - x_{1} + 1} & m \\left(- ρ + 1 + \\frac{ρ}{w \\left(- x_{2} + 1 + \\frac{x_{2}}{w}\\right)}\\right) + \\frac{m x_{2} ρ \\left(1 - \\frac{1}{w}\\right)}{w \\left(- x_{2} + 1 + \\frac{x_{2}}{w}\\right)^{2}}\\\\\\frac{m w x_{1} \\left(- w + 1\\right)}{\\left(w x_{1} - x_{1} + 1\\right)^{2}} + \\frac{m w}{w x_{1} - x_{1} + 1} & \\left(- m + 1\\right) \\left(- ρ + 1 + \\frac{ρ}{w \\left(- x_{2} + 1 + \\frac{x_{2}}{w}\\right)}\\right) + \\frac{x_{2} ρ \\left(1 - \\frac{1}{w}\\right) \\left(- m + 1\\right)}{w \\left(- x_{2} + 1 + \\frac{x_{2}}{w}\\right)^{2}}\\end{matrix}\\right]$$"
      ],
      "text/plain": [
       "⎡                                                                             \n",
       "⎢                                                                             \n",
       "⎢w⋅x₁⋅(-m + 1)⋅(-w + 1)     w⋅(-m + 1)          ⎛                ρ        ⎞   \n",
       "⎢────────────────────── + ─────────────       m⋅⎜-ρ + 1 + ────────────────⎟ + \n",
       "⎢                  2      w⋅x₁ - x₁ + 1         ⎜           ⎛          x₂⎞⎟   \n",
       "⎢   (w⋅x₁ - x₁ + 1)                             ⎜         w⋅⎜-x₂ + 1 + ──⎟⎟   \n",
       "⎢                                               ⎝           ⎝          w ⎠⎠   \n",
       "⎢                                                                             \n",
       "⎢                                                                             \n",
       "⎢                                                                             \n",
       "⎢                                                                             \n",
       "⎢   m⋅w⋅x₁⋅(-w + 1)         m⋅w                   ⎛                ρ        ⎞ \n",
       "⎢   ──────────────── + ─────────────     (-m + 1)⋅⎜-ρ + 1 + ────────────────⎟ \n",
       "⎢                  2   w⋅x₁ - x₁ + 1              ⎜           ⎛          x₂⎞⎟ \n",
       "⎢   (w⋅x₁ - x₁ + 1)                               ⎜         w⋅⎜-x₂ + 1 + ──⎟⎟ \n",
       "⎢                                                 ⎝           ⎝          w ⎠⎠ \n",
       "⎣                                                                             \n",
       "\n",
       "         ⎛    1⎞       ⎤\n",
       "  m⋅x₂⋅ρ⋅⎜1 - ─⎟       ⎥\n",
       "         ⎝    w⎠       ⎥\n",
       "─────────────────      ⎥\n",
       "                2      ⎥\n",
       "  ⎛          x₂⎞       ⎥\n",
       "w⋅⎜-x₂ + 1 + ──⎟       ⎥\n",
       "  ⎝          w ⎠       ⎥\n",
       "                       ⎥\n",
       "       ⎛    1⎞         ⎥\n",
       "  x₂⋅ρ⋅⎜1 - ─⎟⋅(-m + 1)⎥\n",
       "       ⎝    w⎠         ⎥\n",
       "+ ─────────────────────⎥\n",
       "                    2  ⎥\n",
       "      ⎛          x₂⎞   ⎥\n",
       "    w⋅⎜-x₂ + 1 + ──⎟   ⎥\n",
       "      ⎝          w ⎠   ⎦"
      ]
     },
     "execution_count": 4,
     "metadata": {},
     "output_type": "execute_result"
    }
   ],
   "source": [
    "J = Matrix([\n",
    "    [\n",
    "        (x1+eqs[0]).diff(x1), (x1+eqs[0]).diff(x2)\n",
    "    ],\n",
    "    [\n",
    "        (x2+eqs[1]).diff(x1), (x2+eqs[1]).diff(x2)\n",
    "    ]\n",
    "])\n",
    "J"
   ]
  },
  {
   "cell_type": "code",
   "execution_count": 5,
   "metadata": {},
   "outputs": [
    {
     "data": {
      "image/png": "[encoded data removed]",
      "text/latex": [
       "$$\\left[\\begin{matrix}w \\left(- m + 1\\right) & m \\left(- ρ + 1 + \\frac{ρ}{w}\\right)\\\\m w & \\left(- m + 1\\right) \\left(- ρ + 1 + \\frac{ρ}{w}\\right)\\end{matrix}\\right]$$"
      ],
      "text/plain": [
       "⎡                 ⎛         ρ⎞    ⎤\n",
       "⎢w⋅(-m + 1)     m⋅⎜-ρ + 1 + ─⎟    ⎥\n",
       "⎢                 ⎝         w⎠    ⎥\n",
       "⎢                                 ⎥\n",
       "⎢                     ⎛         ρ⎞⎥\n",
       "⎢   m⋅w      (-m + 1)⋅⎜-ρ + 1 + ─⎟⎥\n",
       "⎣                     ⎝         w⎠⎦"
      ]
     },
     "execution_count": 5,
     "metadata": {},
     "output_type": "execute_result"
    }
   ],
   "source": [
    "J00 = J.subs({x1:0, x2:0})\n",
    "J00"
   ]
  },
  {
   "cell_type": "code",
   "execution_count": 6,
   "metadata": {},
   "outputs": [
    {
     "data": {
      "image/png": "[encoded data removed]",
      "text/latex": [
       "$$\\left[\\begin{matrix}- m + 1 + \\frac{1}{w} \\left(- m + 1\\right) \\left(- w + 1\\right) & m w ρ \\left(1 - \\frac{1}{w}\\right) + m\\\\m + \\frac{m}{w} \\left(- w + 1\\right) & - m + w ρ \\left(1 - \\frac{1}{w}\\right) \\left(- m + 1\\right) + 1\\end{matrix}\\right]$$"
      ],
      "text/plain": [
       "⎡         (-m + 1)⋅(-w + 1)              ⎛    1⎞          ⎤\n",
       "⎢-m + 1 + ─────────────────        m⋅w⋅ρ⋅⎜1 - ─⎟ + m      ⎥\n",
       "⎢                 w                      ⎝    w⎠          ⎥\n",
       "⎢                                                         ⎥\n",
       "⎢          m⋅(-w + 1)                 ⎛    1⎞             ⎥\n",
       "⎢      m + ──────────        -m + w⋅ρ⋅⎜1 - ─⎟⋅(-m + 1) + 1⎥\n",
       "⎣              w                      ⎝    w⎠             ⎦"
      ]
     },
     "execution_count": 6,
     "metadata": {},
     "output_type": "execute_result"
    }
   ],
   "source": [
    "J11 = J.subs({x1:1, x2:1})\n",
    "J11"
   ]
  },
  {
   "cell_type": "code",
   "execution_count": 15,
   "metadata": {},
   "outputs": [
    {
     "data": {
      "image/png": "[encoded data removed]",
      "text/latex": [
       "$$\\left ( 1, \\quad \\frac{1}{w} \\left(m w^{2} - m w ρ + m w + m ρ - w^{2} + w ρ - w - ρ\\right), \\quad 2 m w ρ - 2 m w - 2 m ρ - w ρ + w + ρ\\right )$$"
      ],
      "text/plain": [
       "⎛      2                        2                                             \n",
       "⎜   m⋅w  - m⋅w⋅ρ + m⋅w + m⋅ρ - w  + w⋅ρ - w - ρ                               \n",
       "⎜1, ───────────────────────────────────────────, 2⋅m⋅w⋅ρ - 2⋅m⋅w - 2⋅m⋅ρ - w⋅ρ\n",
       "⎝                        w                                                    \n",
       "\n",
       "        ⎞\n",
       "        ⎟\n",
       " + w + ρ⎟\n",
       "        ⎠"
      ]
     },
     "execution_count": 15,
     "metadata": {},
     "output_type": "execute_result"
    }
   ],
   "source": [
    "a, b, c = J00.charpoly().coeffs()\n",
    "a, b, c"
   ]
  },
  {
   "cell_type": "code",
   "execution_count": 16,
   "metadata": {},
   "outputs": [
    {
     "data": {
      "image/png": "[encoded data removed]",
      "text/latex": [
       "$$\\frac{1}{w} \\left(m - 1\\right) \\left(w^{2} - w ρ + w + ρ\\right)$$"
      ],
      "text/plain": [
       "        ⎛ 2              ⎞\n",
       "(m - 1)⋅⎝w  - w⋅ρ + w + ρ⎠\n",
       "──────────────────────────\n",
       "            w             "
      ]
     },
     "execution_count": 16,
     "metadata": {},
     "output_type": "execute_result"
    }
   ],
   "source": [
    "b = b.factor(m)\n",
    "b"
   ]
  },
  {
   "cell_type": "code",
   "execution_count": 17,
   "metadata": {},
   "outputs": [
    {
     "name": "stdout",
     "output_type": "stream",
     "text": [
      "\\frac{1}{w} \\left(m - 1\\right) \\left(w^{2} - w ρ + w + ρ\\right)\n"
     ]
    }
   ],
   "source": [
    "print(latex(b))"
   ]
  },
  {
   "cell_type": "code",
   "execution_count": 18,
   "metadata": {},
   "outputs": [
    {
     "data": {
      "image/png": "[encoded data removed]",
      "text/latex": [
       "$$\\left(2 m - 1\\right) \\left(w ρ - w - ρ\\right)$$"
      ],
      "text/plain": [
       "(2⋅m - 1)⋅(w⋅ρ - w - ρ)"
      ]
     },
     "execution_count": 18,
     "metadata": {},
     "output_type": "execute_result"
    }
   ],
   "source": [
    "c = c.factor(m)\n",
    "c"
   ]
  },
  {
   "cell_type": "code",
   "execution_count": 19,
   "metadata": {},
   "outputs": [
    {
     "data": {
      "image/png": "[encoded data removed]",
      "text/latex": [
       "$$0$$"
      ],
      "text/plain": [
       "0"
      ]
     },
     "execution_count": 19,
     "metadata": {},
     "output_type": "execute_result"
    }
   ],
   "source": [
    "c_ = (1-2*m)*(w*(1-ρ)+ρ)\n",
    "simplify(c - c_)"
   ]
  },
  {
   "cell_type": "code",
   "execution_count": 20,
   "metadata": {},
   "outputs": [
    {
     "data": {
      "image/png": "[encoded data removed]",
      "text/latex": [
       "$$\\frac{0.25}{w^{2}} \\left(w^{2} - w ρ + w + ρ\\right)^{2}$$"
      ],
      "text/plain": [
       "                       2\n",
       "     ⎛ 2              ⎞ \n",
       "0.25⋅⎝w  - w⋅ρ + w + ρ⎠ \n",
       "────────────────────────\n",
       "            2           \n",
       "           w            "
      ]
     },
     "execution_count": 20,
     "metadata": {},
     "output_type": "execute_result"
    }
   ],
   "source": [
    "Δ = (b**2 - 4*a*c)\n",
    "simplify(Δ.subs({m:0.5}))"
   ]
  },
  {
   "cell_type": "code",
   "execution_count": 21,
   "metadata": {},
   "outputs": [
    {
     "data": {
      "image/png": "[encoded data removed]",
      "text/latex": [
       "$$\\frac{1}{w^{2}} \\left(w + ρ\\right)^{2} \\left(w^{2} - 2 w + 1\\right)$$"
      ],
      "text/plain": [
       "       2 ⎛ 2          ⎞\n",
       "(w + ρ) ⋅⎝w  - 2⋅w + 1⎠\n",
       "───────────────────────\n",
       "            2          \n",
       "           w           "
      ]
     },
     "execution_count": 21,
     "metadata": {},
     "output_type": "execute_result"
    }
   ],
   "source": [
    "simplify(Δ.subs({m:0}).factor(ρ))"
   ]
  },
  {
   "cell_type": "code",
   "execution_count": 105,
   "metadata": {},
   "outputs": [
    {
     "data": {
      "image/png": "[encoded data removed]",
      "text/latex": [
       "$$- \\frac{16}{w^{2}} \\left(w + ρ\\right)^{2} \\left(w - ρ \\left(w - 1\\right)\\right) \\left(w^{2} - 2 w + 1\\right)$$"
      ],
      "text/plain": [
       "           2                 ⎛ 2          ⎞ \n",
       "-16⋅(w + ρ) ⋅(w - ρ⋅(w - 1))⋅⎝w  - 2⋅w + 1⎠ \n",
       "────────────────────────────────────────────\n",
       "                      2                     \n",
       "                     w                      "
      ]
     },
     "execution_count": 105,
     "metadata": {},
     "output_type": "execute_result"
    }
   ],
   "source": [
    "am, bm, cm = Δ.as_poly(m).coeffs()\n",
    "simplify((bm**2 - 4*am*cm).factor(ρ))"
   ]
  },
  {
   "cell_type": "code",
   "execution_count": 12,
   "metadata": {},
   "outputs": [
    {
     "data": {
      "image/png": "[encoded data removed]",
      "text/latex": [
       "$$- m \\left(w - 1\\right)$$"
      ],
      "text/plain": [
       "-m⋅(w - 1)"
      ]
     },
     "execution_count": 12,
     "metadata": {},
     "output_type": "execute_result"
    }
   ],
   "source": [
    "(a+b+c).factor(ρ).subs({ρ:0})"
   ]
  },
  {
   "cell_type": "code",
   "execution_count": 36,
   "metadata": {},
   "outputs": [
    {
     "data": {
      "image/png": "[encoded data removed]",
      "text/latex": [
       "$$\\left ( 1, \\quad \\frac{1}{w} \\left(m w^{2} ρ - m w ρ + m w + m - w^{2} ρ + w ρ - w - 1\\right), \\quad \\frac{1}{w} \\left(- 2 m w ρ + 2 m ρ - 2 m + w ρ - ρ + 1\\right)\\right )$$"
      ],
      "text/plain": [
       "⎛      2                        2                                             \n",
       "⎜   m⋅w ⋅ρ - m⋅w⋅ρ + m⋅w + m - w ⋅ρ + w⋅ρ - w - 1  -2⋅m⋅w⋅ρ + 2⋅m⋅ρ - 2⋅m + w⋅\n",
       "⎜1, ─────────────────────────────────────────────, ───────────────────────────\n",
       "⎝                         w                                         w         \n",
       "\n",
       "         ⎞\n",
       "ρ - ρ + 1⎟\n",
       "─────────⎟\n",
       "         ⎠"
      ]
     },
     "execution_count": 36,
     "metadata": {},
     "output_type": "execute_result"
    }
   ],
   "source": [
    "a, b, c = J11.charpoly().coeffs()\n",
    "a, b, c"
   ]
  },
  {
   "cell_type": "code",
   "execution_count": 37,
   "metadata": {},
   "outputs": [
    {
     "data": {
      "image/png": "[encoded data removed]",
      "text/latex": [
       "$$\\frac{1}{w} \\left(m - 1\\right) \\left(w^{2} ρ - w ρ + w + 1\\right)$$"
      ],
      "text/plain": [
       "        ⎛ 2                ⎞\n",
       "(m - 1)⋅⎝w ⋅ρ - w⋅ρ + w + 1⎠\n",
       "────────────────────────────\n",
       "             w              "
      ]
     },
     "execution_count": 37,
     "metadata": {},
     "output_type": "execute_result"
    }
   ],
   "source": [
    "b = b.factor(m)\n",
    "b"
   ]
  },
  {
   "cell_type": "code",
   "execution_count": 38,
   "metadata": {},
   "outputs": [
    {
     "data": {
      "image/png": "[encoded data removed]",
      "text/latex": [
       "$$0$$"
      ],
      "text/plain": [
       "0"
      ]
     },
     "execution_count": 38,
     "metadata": {},
     "output_type": "execute_result"
    }
   ],
   "source": [
    "b_ = -(1-m)/w * (w*(1-ρ) + 1 + w**2 * ρ)\n",
    "simplify(b - b_)"
   ]
  },
  {
   "cell_type": "code",
   "execution_count": 39,
   "metadata": {},
   "outputs": [
    {
     "data": {
      "image/png": "[encoded data removed]",
      "text/latex": [
       "$$\\frac{1}{w} \\left(2 m - 1\\right) \\left(- w ρ + ρ - 1\\right)$$"
      ],
      "text/plain": [
       "(2⋅m - 1)⋅(-w⋅ρ + ρ - 1)\n",
       "────────────────────────\n",
       "           w            "
      ]
     },
     "execution_count": 39,
     "metadata": {},
     "output_type": "execute_result"
    }
   ],
   "source": [
    "c = c.factor(m)\n",
    "c"
   ]
  },
  {
   "cell_type": "code",
   "execution_count": 40,
   "metadata": {},
   "outputs": [
    {
     "data": {
      "image/png": "[encoded data removed]",
      "text/latex": [
       "$$\\frac{1}{w^{2}} \\left(w ρ + 1\\right)^{2} \\left(w^{2} - 2 w + 1\\right)$$"
      ],
      "text/plain": [
       "         2 ⎛ 2          ⎞\n",
       "(w⋅ρ + 1) ⋅⎝w  - 2⋅w + 1⎠\n",
       "─────────────────────────\n",
       "             2           \n",
       "            w            "
      ]
     },
     "execution_count": 40,
     "metadata": {},
     "output_type": "execute_result"
    }
   ],
   "source": [
    "Δ = b**2 - 4 * a * c\n",
    "simplify(Δ.subs({m:0}).factor(ρ))"
   ]
  },
  {
   "cell_type": "code",
   "execution_count": 41,
   "metadata": {},
   "outputs": [
    {
     "data": {
      "image/png": "[encoded data removed]",
      "text/latex": [
       "$$\\frac{0.25}{w^{2}} \\left(w^{2} ρ - w ρ + w + 1\\right)^{2}$$"
      ],
      "text/plain": [
       "                         2\n",
       "     ⎛ 2                ⎞ \n",
       "0.25⋅⎝w ⋅ρ - w⋅ρ + w + 1⎠ \n",
       "──────────────────────────\n",
       "             2            \n",
       "            w             "
      ]
     },
     "execution_count": 41,
     "metadata": {},
     "output_type": "execute_result"
    }
   ],
   "source": [
    "simplify(Δ.subs({m:0.5}))"
   ]
  },
  {
   "cell_type": "code",
   "execution_count": 45,
   "metadata": {},
   "outputs": [
    {
     "data": {
      "image/png": "[encoded data removed]",
      "text/latex": [
       "$$- \\frac{16}{w^{3}} \\left(w ρ + 1\\right)^{2} \\left(ρ \\left(w - 1\\right) + 1\\right) \\left(w^{2} - 2 w + 1\\right)$$"
      ],
      "text/plain": [
       "             2                 ⎛ 2          ⎞ \n",
       "-16⋅(w⋅ρ + 1) ⋅(ρ⋅(w - 1) + 1)⋅⎝w  - 2⋅w + 1⎠ \n",
       "──────────────────────────────────────────────\n",
       "                       3                      \n",
       "                      w                       "
      ]
     },
     "execution_count": 45,
     "metadata": {},
     "output_type": "execute_result"
    }
   ],
   "source": [
    "am, bm, cm = Δ.as_poly(m).coeffs()\n",
    "simplify((bm**2 - 4*am*cm).factor(ρ))"
   ]
  },
  {
   "cell_type": "code",
   "execution_count": 35,
   "metadata": {},
   "outputs": [
    {
     "data": {
      "image/png": "[encoded data removed]",
      "text/latex": [
       "$$\\frac{1}{w} \\left(m + ρ \\left(m w - 2 m - w + 1\\right)\\right) \\left(w - 1\\right)$$"
      ],
      "text/plain": [
       "(m + ρ⋅(m⋅w - 2⋅m - w + 1))⋅(w - 1)\n",
       "───────────────────────────────────\n",
       "                 w                 "
      ]
     },
     "execution_count": 35,
     "metadata": {},
     "output_type": "execute_result"
    }
   ],
   "source": [
    "(a+b+c).factor(ρ)"
   ]
  },
  {
   "cell_type": "code",
   "execution_count": 74,
   "metadata": {},
   "outputs": [
    {
     "data": {
      "image/png": "[encoded data removed]",
      "text/latex": [
       "$$\\frac{1}{w} \\left(m - 1\\right) \\left(w^{2} - 2 w + 1\\right)$$"
      ],
      "text/plain": [
       "        ⎛ 2          ⎞\n",
       "(m - 1)⋅⎝w  - 2⋅w + 1⎠\n",
       "──────────────────────\n",
       "          w           "
      ]
     },
     "execution_count": 74,
     "metadata": {},
     "output_type": "execute_result"
    }
   ],
   "source": [
    "(a+b+c).subs({ρ:1}).factor(m)"
   ]
  },
  {
   "cell_type": "code",
   "execution_count": 75,
   "metadata": {},
   "outputs": [
    {
     "data": {
      "image/png": "[encoded data removed]",
      "text/latex": [
       "$$\\frac{m}{w} \\left(w - 1\\right)$$"
      ],
      "text/plain": [
       "m⋅(w - 1)\n",
       "─────────\n",
       "    w    "
      ]
     },
     "execution_count": 75,
     "metadata": {},
     "output_type": "execute_result"
    }
   ],
   "source": [
    "(a+b+c).subs({ρ:0}).factor(m)"
   ]
  },
  {
   "cell_type": "code",
   "execution_count": 98,
   "metadata": {},
   "outputs": [
    {
     "data": {
      "image/png": "[encoded data removed]",
      "text/latex": [
       "$$- \\frac{m}{m \\left(w - 2\\right) - w + 1}$$"
      ],
      "text/plain": [
       "       -m        \n",
       "─────────────────\n",
       "m⋅(w - 2) - w + 1"
      ]
     },
     "execution_count": 98,
     "metadata": {},
     "output_type": "execute_result"
    }
   ],
   "source": [
    "ρhat = solve(a+b+c, ρ)[0]\n",
    "ρhat.factor(m)"
   ]
  },
  {
   "cell_type": "code",
   "execution_count": 99,
   "metadata": {},
   "outputs": [
    {
     "data": {
      "image/png": "[encoded data removed]",
      "text/latex": [
       "$$0$$"
      ],
      "text/plain": [
       "0"
      ]
     },
     "execution_count": 99,
     "metadata": {},
     "output_type": "execute_result"
    }
   ],
   "source": [
    "ρhat_ = m/(m+(1-m)*(w-1))\n",
    "simplify(ρhat - ρhat_)"
   ]
  },
  {
   "cell_type": "code",
   "execution_count": 101,
   "metadata": {},
   "outputs": [
    {
     "data": {
      "image/png": "[encoded data removed]",
      "text/latex": [
       "$$- \\frac{2 m^{2} + m \\left(- w^{2} + 4 w - 3\\right) + w^{2} - 2 w + 1}{w \\left(m \\left(w - 2\\right) - w + 1\\right)}$$"
      ],
      "text/plain": [
       " ⎛   2     ⎛   2          ⎞    2          ⎞ \n",
       "-⎝2⋅m  + m⋅⎝- w  + 4⋅w - 3⎠ + w  - 2⋅w + 1⎠ \n",
       "────────────────────────────────────────────\n",
       "           w⋅(m⋅(w - 2) - w + 1)            "
      ]
     },
     "execution_count": 101,
     "metadata": {},
     "output_type": "execute_result"
    }
   ],
   "source": [
    "(2*a+b).subs({ρ:ρhat}).factor(m)"
   ]
  },
  {
   "cell_type": "code",
   "execution_count": 89,
   "metadata": {},
   "outputs": [
    {
     "data": {
      "image/png": "[encoded data removed]",
      "text/latex": [
       "$$- \\frac{m \\left(w + 1\\right) + w - 1}{w \\left(m - 1\\right) \\left(w - 1\\right)}$$"
      ],
      "text/plain": [
       "-(m⋅(w + 1) + w - 1) \n",
       "─────────────────────\n",
       "  w⋅(m - 1)⋅(w - 1)  "
      ]
     },
     "execution_count": 89,
     "metadata": {},
     "output_type": "execute_result"
    }
   ],
   "source": [
    "ρ0 = solve(2*a+b, ρ)[0]\n",
    "ρ0.factor(m)"
   ]
  },
  {
   "cell_type": "code",
   "execution_count": 109,
   "metadata": {},
   "outputs": [
    {
     "data": {
      "image/png": "[encoded data removed]",
      "text/latex": [
       "$$\\frac{ρ \\left(w - 1\\right)}{w ρ - 2 ρ + 1}$$"
      ],
      "text/plain": [
       "  ρ⋅(w - 1)  \n",
       "─────────────\n",
       "w⋅ρ - 2⋅ρ + 1"
      ]
     },
     "execution_count": 109,
     "metadata": {},
     "output_type": "execute_result"
    }
   ],
   "source": [
    "mhat = solve(a+b+c, m)[0]\n",
    "mhat"
   ]
  },
  {
   "cell_type": "code",
   "execution_count": 111,
   "metadata": {},
   "outputs": [
    {
     "data": {
      "image/png": "[encoded data removed]",
      "text/latex": [
       "$$- w ρ + 2 ρ - \\frac{ρ}{w}$$"
      ],
      "text/plain": [
       "             ρ\n",
       "-w⋅ρ + 2⋅ρ - ─\n",
       "             w"
      ]
     },
     "execution_count": 111,
     "metadata": {},
     "output_type": "execute_result"
    }
   ],
   "source": [
    "simplify((a+b+c).subs({m:0}))"
   ]
  },
  {
   "cell_type": "code",
   "execution_count": 113,
   "metadata": {},
   "outputs": [
    {
     "data": {
      "image/png": "[encoded data removed]",
      "text/latex": [
       "$$\\frac{1}{w} \\left(- w ρ + w + ρ - 1\\right)$$"
      ],
      "text/plain": [
       "-w⋅ρ + w + ρ - 1\n",
       "────────────────\n",
       "       w        "
      ]
     },
     "execution_count": 113,
     "metadata": {},
     "output_type": "execute_result"
    }
   ],
   "source": [
    "simplify((a+b+c).subs({m:1}))"
   ]
  },
  {
   "cell_type": "code",
   "execution_count": 116,
   "metadata": {},
   "outputs": [
    {
     "data": {
      "image/png": "[encoded data removed]",
      "text/latex": [
       "$$2$$"
      ],
      "text/plain": [
       "2"
      ]
     },
     "execution_count": 116,
     "metadata": {},
     "output_type": "execute_result"
    }
   ],
   "source": [
    "(2*a+b).subs({m:1})"
   ]
  },
  {
   "cell_type": "code",
   "execution_count": 140,
   "metadata": {},
   "outputs": [
    {
     "data": {
      "image/png": "[encoded data removed]",
      "text/latex": [
       "$$2 + \\frac{1}{w} \\left(\\frac{ρ \\left(w - 1\\right)}{w ρ - 2 ρ + 1} - 1\\right) \\left(w^{2} ρ - w ρ + w + 1\\right)$$"
      ],
      "text/plain": [
       "    ⎛  ρ⋅(w - 1)      ⎞ ⎛ 2                ⎞\n",
       "    ⎜───────────── - 1⎟⋅⎝w ⋅ρ - w⋅ρ + w + 1⎠\n",
       "    ⎝w⋅ρ - 2⋅ρ + 1    ⎠                     \n",
       "2 + ────────────────────────────────────────\n",
       "                       w                    "
      ]
     },
     "execution_count": 140,
     "metadata": {},
     "output_type": "execute_result"
    }
   ],
   "source": [
    "(2*a+b).subs({m:mhat})"
   ]
  },
  {
   "cell_type": "code",
   "execution_count": 145,
   "metadata": {},
   "outputs": [
    {
     "data": {
      "image/png": "[encoded data removed]",
      "text/latex": [
       "$$\\frac{w^{2} ρ - w ρ - w + 1}{w^{2} ρ - w ρ + w + 1}$$"
      ],
      "text/plain": [
       " 2                \n",
       "w ⋅ρ - w⋅ρ - w + 1\n",
       "──────────────────\n",
       " 2                \n",
       "w ⋅ρ - w⋅ρ + w + 1"
      ]
     },
     "execution_count": 145,
     "metadata": {},
     "output_type": "execute_result"
    }
   ],
   "source": [
    "solve(2*a+b, m)[0]"
   ]
  },
  {
   "cell_type": "code",
   "execution_count": 143,
   "metadata": {},
   "outputs": [
    {
     "data": {
      "image/png": "[encoded data removed]",
      "text/latex": [
       "$$\\frac{\\left(w - 1\\right) \\left(w ρ^{2} + ρ \\left(w - 1\\right) + 1\\right)}{\\left(ρ \\left(w - 2\\right) + 1\\right) \\left(w + ρ \\left(w^{2} - w\\right) + 1\\right)}$$"
      ],
      "text/plain": [
       "           ⎛   2                ⎞   \n",
       "   (w - 1)⋅⎝w⋅ρ  + ρ⋅(w - 1) + 1⎠   \n",
       "────────────────────────────────────\n",
       "                ⎛      ⎛ 2    ⎞    ⎞\n",
       "(ρ⋅(w - 2) + 1)⋅⎝w + ρ⋅⎝w  - w⎠ + 1⎠"
      ]
     },
     "execution_count": 143,
     "metadata": {},
     "output_type": "execute_result"
    }
   ],
   "source": [
    "(mhat - solve(2*a+b, m)[0]).factor(ρ)"
   ]
  },
  {
   "cell_type": "code",
   "execution_count": 144,
   "metadata": {},
   "outputs": [
    {
     "data": {
      "image/png": "[encoded data removed]",
      "text/latex": [
       "$$\\frac{1}{w} \\left(m \\left(w^{2} ρ - w ρ + w + 1\\right) - w^{2} ρ + w ρ + w - 1\\right)$$"
      ],
      "text/plain": [
       "  ⎛ 2                ⎞    2                \n",
       "m⋅⎝w ⋅ρ - w⋅ρ + w + 1⎠ - w ⋅ρ + w⋅ρ + w - 1\n",
       "───────────────────────────────────────────\n",
       "                     w                     "
      ]
     },
     "execution_count": 144,
     "metadata": {},
     "output_type": "execute_result"
    }
   ],
   "source": [
    "(2*a+b).factor(m)"
   ]
  },
  {
   "cell_type": "code",
   "execution_count": null,
   "metadata": {},
   "outputs": [],
   "source": []
  }
 ],
 "metadata": {
  "kernelspec": {
   "display_name": "Python [conda env:scipy]",
   "language": "python",
   "name": "conda-env-scipy-py"
  },
  "language_info": {
   "codemirror_mode": {
    "name": "ipython",
    "version": 3
   },
   "file_extension": ".py",
   "mimetype": "text/x-python",
   "name": "python",
   "nbconvert_exporter": "python",
   "pygments_lexer": "ipython3",
   "version": "3.6.5"
  }
 },
 "nbformat": 4,
 "nbformat_minor": 2
}
